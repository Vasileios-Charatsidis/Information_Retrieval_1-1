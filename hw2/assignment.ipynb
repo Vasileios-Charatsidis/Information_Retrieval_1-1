{
 "cells": [
  {
   "cell_type": "markdown",
   "metadata": {},
   "source": [
    "# Information Retrieval I #\n",
    "## Assignment 2: retrieval models [100 points + 10 bonus points] ##\n",
    "**TA**: Christophe Van Gysel (cvangysel@uva.nl; C3.258B, Science Park 904)\n",
    "\n",
    "**Secondary TAs**: Harrie Oosterhuis, Nikos Voskarides"
   ]
  },
  {
   "cell_type": "markdown",
   "metadata": {},
   "source": [
    "In this assignment you will get familiar with basic information retrieval concepts. You will implement and evaluate different information retrieval ranking models and evaluate their performance.\n",
    "\n",
    "We provide you with a VirtualBox image that comes pre-loaded with an index and a Python installation. To query the index, you'll use a Python package ([pyndri](https://github.com/cvangysel/pyndri)) that allows easy access to the underlying document statistics.\n",
    "\n",
    "For evaluation you'll use the [TREC Eval](https://github.com/usnistgov/trec_eval) utility, provided by the National Institute of Standards and Technology of the United States. TREC Eval is the de facto standard way to compute Information Retrieval measures and is frequently referenced in scientific papers.\n",
    "\n",
    "This is a **groups-of-two assignment**, the deadline is **23:59 - 25 January, 2017**. Code quality, informative comments and convincing analysis of the results will be considered when grading. Submission should be done through blackboard, questions can be asked on the course [Piazza](https://piazza.com/class/ixoz63p156g1ts).\n",
    "\n",
    "### Technicalities (must-read!) ###\n",
    "This assignment comes pre-loaded on a VirtualBox running Ubuntu. We have configured the indexing software and Python environment such that it works out of the box. You are allowed to extract the files from the VirtualBox and set-up your own non-virtualized environment. However, in this case you are on your own w.r.t. software support.\n",
    "\n",
    "The assignment directory is organized as follows:\n",
    "   * `./assignment.ipynb` (this file): the description of the assignment.\n",
    "   * `./index/`: the index we prepared for you.\n",
    "   * `./ap_88_90/`: directory with ground-truth and evaluation sets:\n",
    "      * `qrel_test`: test query relevance collection (**test set**).\n",
    "      * `qrel_validation`: validation query relevance collection (**validation set**).\n",
    "      * `topics_title`: semicolon-separated file with query identifiers and terms.\n",
    "      \n",
    "`Python + Jupyter`, `Indri`, `Gensim` and `Pyndri` come pre-installed (see `$HOME/.local`). TREC Eval can be found in `$HOME/Downloads/trec_eval.9.0`. The password of the `student` account on the VirtualBox is `datascience`."
   ]
  },
  {
   "cell_type": "markdown",
   "metadata": {},
   "source": [
    "### TREC Eval primer ###\n",
    "The TREC Eval utility can be downloaded and compiled as follows:\n",
    "\n",
    "    git clone https://github.com/usnistgov/trec_eval.git\n",
    "    cd trec_eval\n",
    "    make\n",
    "\n",
    "TREC Eval computes evaluation scores given two files: ground-truth information regarding relevant documents, named *query relevance* or *qrel*, and a ranking of documents for a set of queries, referred to as a *run*. The *qrel* will be supplied by us and should not be changed. For every retrieval model (or combinations thereof) you will generate a run of the top-1000 documents for every query. The format of the *run* file is as follows:\n",
    "\n",
    "    $query_identifier Q0 $document_identifier $rank_of_document_for_query $query_document_similarity $run_identifier\n",
    "    \n",
    "where\n",
    "   * `$query_identifier` is the unique identifier corresponding to a query (usually this follows a sequential numbering).\n",
    "   * `Q0` is a legacy field that you can ignore.\n",
    "   * `$document_identifier` corresponds to the unique identifier of a document (e.g., APXXXXXXX where AP denotes the collection and the Xs correspond to a unique numerical identifier).\n",
    "   * `$rank_of_document_for_query` denotes the rank of the document for the particular query. This field is ignored by TREC Eval and is only maintained for legacy support. The ranks are computed by TREC Eval itself using the `$query_document_similarity` field (see next). However, it remains good practice to correctly compute this field.\n",
    "   * `$query_document_similarity` is a score indicating the similarity between query and document where a higher score denotes greater similarity.\n",
    "   * `$run_identifier` is an identifier of the run. This field is for your own convenience and has no purpose beyond bookkeeping.\n",
    "   \n",
    "For example, say we have two queries: `Q1` and `Q2` and we rank three documents (`DOC1`, `DOC2`, `DOC3`). For query `Q1`, we find the following similarity scores `score(Q1, DOC1) = 1.0`, `score(Q1, DOC2) = 0.5`, `score(Q1, DOC3) = 0.75`; and for `Q2`: `score(Q2, DOC1) = -0.1`, `score(Q2, DOC2) = 1.25`, `score(Q1, DOC3) = 0.0`. We can generate run using the following snippet:"
   ]
  },
  {
   "cell_type": "code",
   "execution_count": 1,
   "metadata": {
    "collapsed": false,
    "scrolled": false
   },
   "outputs": [
    {
     "name": "stdout",
     "output_type": "stream",
     "text": [
      "Q1 Q0 DOC1 1 1.0 example\n",
      "Q1 Q0 DOC3 2 0.75 example\n",
      "Q1 Q0 DOC2 3 0.5 example\n",
      "Q2 Q0 DOC2 1 1.25 example\n",
      "Q2 Q0 DOC3 2 0.0 example\n",
      "Q2 Q0 DOC1 3 -0.1 example\n"
     ]
    }
   ],
   "source": [
    "import logging\n",
    "import sys\n",
    "\n",
    "def write_run(model_name, data, out_f,\n",
    "              max_objects_per_query=sys.maxsize,\n",
    "              skip_sorting=False):\n",
    "    \"\"\"\n",
    "    Write a run to an output file.\n",
    "    Parameters:\n",
    "        - model_name: identifier of run.\n",
    "        - data: dictionary mapping topic_id to object_assesments;\n",
    "            object_assesments is an iterable (list or tuple) of\n",
    "            (relevance, object_id) pairs.\n",
    "            The object_assesments iterable is sorted by decreasing order.\n",
    "        - out_f: output file stream.\n",
    "        - max_objects_per_query: cut-off for number of objects per query.\n",
    "    \"\"\"\n",
    "    for subject_id, object_assesments in data.items():\n",
    "        if not object_assesments:\n",
    "            logging.warning('Received empty ranking for %s; ignoring.',\n",
    "                            subject_id)\n",
    "\n",
    "            continue\n",
    "\n",
    "        # Probe types, to make sure everything goes alright.\n",
    "        # assert isinstance(object_assesments[0][0], float) or \\\n",
    "        #     isinstance(object_assesments[0][0], np.float32)\n",
    "        assert isinstance(object_assesments[0][1], str) or \\\n",
    "            isinstance(object_assesments[0][1], bytes)\n",
    "\n",
    "        if not skip_sorting:\n",
    "            object_assesments = sorted(object_assesments, reverse=True)\n",
    "\n",
    "        if max_objects_per_query < sys.maxsize:\n",
    "            object_assesments = object_assesments[:max_objects_per_query]\n",
    "\n",
    "        if isinstance(subject_id, bytes):\n",
    "            subject_id = subject_id.decode('utf8')\n",
    "\n",
    "        for rank, (relevance, object_id) in enumerate(object_assesments):\n",
    "            if isinstance(object_id, bytes):\n",
    "                object_id = object_id.decode('utf8')\n",
    "\n",
    "            out_f.write(\n",
    "                '{subject} Q0 {object} {rank} {relevance} '\n",
    "                '{model_name}\\n'.format(\n",
    "                    subject=subject_id,\n",
    "                    object=object_id,\n",
    "                    rank=rank + 1,\n",
    "                    relevance=relevance,\n",
    "                    model_name=model_name))\n",
    "            \n",
    "# The following writes the run to standard output.\n",
    "# In your code, you should write the runs to local\n",
    "# storage in order to pass them to trec_eval.\n",
    "write_run(\n",
    "    model_name='example',\n",
    "    data={\n",
    "        'Q1': ((1.0, 'DOC1'), (0.5, 'DOC2'), (0.75, 'DOC3')),\n",
    "        'Q2': ((-0.1, 'DOC1'), (1.25, 'DOC2'), (0.0, 'DOC3')),\n",
    "    },\n",
    "    out_f=sys.stdout,\n",
    "    max_objects_per_query=1000)"
   ]
  },
  {
   "cell_type": "markdown",
   "metadata": {},
   "source": [
    "Now, imagine that we know that `DOC1` is relevant and `DOC3` is non-relevant for `Q1`. In addition, for `Q2` we only know of the relevance of `DOC3`. The query relevance file looks like:\n",
    "\n",
    "    Q1 0 DOC1 1\n",
    "    Q1 0 DOC3 0\n",
    "    Q2 0 DOC3 1\n",
    "    \n",
    "We store the run and qrel in files `example.run` and `example.qrel` respectively on disk. We can now use TREC Eval to compute evaluation measures. In this example, we're only interested in Mean Average Precision and we'll only show this below for brevity. However, TREC Eval outputs much more information such as NDCG, recall, precision, etc.\n",
    "\n",
    "    $ trec_eval -m all_trec -q example.qrel example.run | grep -E \"^map\\s\"\n",
    "    > map                   \tQ1\t1.0000\n",
    "    > map                   \tQ2\t0.5000\n",
    "    > map                   \tall\t0.7500\n",
    "    \n",
    "Now that we've discussed the output format of rankings and how you can compute evaluation measures from these rankings, we'll now proceed with an overview of the indexing framework you'll use."
   ]
  },
  {
   "cell_type": "markdown",
   "metadata": {},
   "source": [
    "### Pyndri primer ###\n",
    "For this assignment you will use [Pyndri](https://github.com/cvangysel/pyndri) [[1](https://arxiv.org/abs/1701.00749)], a python interface for [Indri](https://www.lemurproject.org/indri.php). We have indexed the document collection and you can query the index using Pyndri. We will start by giving you some examples of what Pyndri can do:\n",
    "\n",
    "First we read the document collection index with Pyndri:"
   ]
  },
  {
   "cell_type": "code",
   "execution_count": 2,
   "metadata": {
    "collapsed": false,
    "scrolled": true
   },
   "outputs": [],
   "source": [
    "import pyndri\n",
    "\n",
    "index = pyndri.Index('index/')"
   ]
  },
  {
   "cell_type": "markdown",
   "metadata": {},
   "source": [
    "The loaded index can be used to access a collection of documents in an easy manner. We'll give you some examples to get some idea of what it can do, it is up to you to figure out how to use it for the remainder of the assignment.\n",
    "\n",
    "First let's look at the number of documents, since Pyndri indexes the documents using incremental identifiers we can simply take the lowest index and the maximum document and consider the difference:"
   ]
  },
  {
   "cell_type": "code",
   "execution_count": 3,
   "metadata": {
    "collapsed": false
   },
   "outputs": [
    {
     "name": "stdout",
     "output_type": "stream",
     "text": [
      "There are 164597 documents in this collection.\n"
     ]
    }
   ],
   "source": [
    "print(\"There are %d documents in this collection.\" % (index.maximum_document() - index.document_base()))"
   ]
  },
  {
   "cell_type": "markdown",
   "metadata": {},
   "source": [
    "Let's take the first document out of the collection and take a look at it:"
   ]
  },
  {
   "cell_type": "markdown",
   "metadata": {},
   "source": [
    "Here we see a document consists of two things, a string representing the external document identifier and an integer list representing the identifiers of words that make up the document. Pyndri uses integer representations for words or terms, thus a token_id is an integer that represents a word whereas the token is the actual text of the word/term. Every id has a unique token and vice versa with the exception of stop words: words so common that there are uninformative, all of these receive the zero id.\n",
    "\n",
    "To see what some ids and their matching tokens we take a look at the dictionary of the index:"
   ]
  },
  {
   "cell_type": "markdown",
   "metadata": {},
   "source": [
    "Using this dictionary we can see the tokens for the (non-stop) words in our example document:"
   ]
  },
  {
   "cell_type": "markdown",
   "metadata": {},
   "source": [
    "The reverse can also be done, say we want to look for news about the \"University of Massachusetts\", the tokens of that query can be converted to ids using the reverse dictionary:"
   ]
  },
  {
   "cell_type": "markdown",
   "metadata": {},
   "source": [
    "Naturally we can now match the document and query in the id space, let's see how often a word from the query occurs in our example document:"
   ]
  },
  {
   "cell_type": "markdown",
   "metadata": {},
   "source": [
    "### Parsing the query file\n",
    "You can parse the query file (`ap_88_89/topics_title`) using the following snippet:"
   ]
  },
  {
   "cell_type": "code",
   "execution_count": 4,
   "metadata": {
    "collapsed": false
   },
   "outputs": [],
   "source": [
    "import collections\n",
    "import io\n",
    "import logging\n",
    "import sys\n",
    "\n",
    "def parse_topics(file_or_files,\n",
    "                 max_topics=sys.maxsize, delimiter=';'):\n",
    "    assert max_topics >= 0 or max_topics is None\n",
    "\n",
    "    topics = collections.OrderedDict()\n",
    "\n",
    "    if not isinstance(file_or_files, list) and \\\n",
    "            not isinstance(file_or_files, tuple):\n",
    "        if hasattr(file_or_files, '__iter__'):\n",
    "            file_or_files = list(file_or_files)\n",
    "        else:\n",
    "            file_or_files = [file_or_files]\n",
    "\n",
    "    for f in file_or_files:\n",
    "        assert isinstance(f, io.IOBase)\n",
    "\n",
    "        for line in f:\n",
    "            assert(isinstance(line, str))\n",
    "\n",
    "            line = line.strip()\n",
    "\n",
    "            if not line:\n",
    "                continue\n",
    "\n",
    "            topic_id, terms = line.split(delimiter, 1)\n",
    "\n",
    "            if topic_id in topics and (topics[topic_id] != terms):\n",
    "                    logging.error('Duplicate topic \"%s\" (%s vs. %s).',\n",
    "                                  topic_id,\n",
    "                                  topics[topic_id],\n",
    "                                  terms)\n",
    "\n",
    "            topics[topic_id] = terms\n",
    "\n",
    "            if max_topics > 0 and len(topics) >= max_topics:\n",
    "                break\n",
    "\n",
    "    return topics"
   ]
  },
  {
   "cell_type": "markdown",
   "metadata": {},
   "source": [
    "### Task 1: Implement and compare lexical IR methods [45 points] ### \n",
    "\n",
    "In this task you will implement a number of lexical methods for IR using the **Pyndri** framework. Then you will evaluate these methods on the dataset we have provided using **TREC Eval**.\n",
    "\n",
    "Use the **Pyndri** framework to get statistics of the documents (term frequency, document frequency, collection frequency; **you are not allowed to use the query functionality of Pyndri**) and implement the following scoring methods in **Python**:\n",
    "\n",
    "- [TF-IDF](http://nlp.stanford.edu/IR-book/html/htmledition/tf-idf-weighting-1.html). **[5 points]**\n",
    "- [BM25](http://nlp.stanford.edu/IR-book/html/htmledition/okapi-bm25-a-non-binary-model-1.html) with k1=1.2 and b=0.75. **[5 points]**\n",
    "- Language models ([survey](https://drive.google.com/file/d/0B-zklbckv9CHc0c3b245UW90NE0/view))\n",
    "    - Jelinek-Mercer (explore different values of 𝛌 in the range [0.1, 0.2, ..., 0.9]). **[5 points]**\n",
    "    - Dirichlet Prior (explore different values of 𝛍 [500, 1000, ..., 2000]). **[5 points]**\n",
    "    - Absolute discounting (explore different values of 𝛅 in the range [0.1, 0.2, ..., 0.9]). **[5 points]**\n",
    "    - [Positional Language Models](http://sifaka.cs.uiuc.edu/~ylv2/pub/sigir09-plm.pdf) define a language model for each position of a document, and score a document based on the scores of its PLMs. The PLM is estimated based on propagated counts of words within a document through a proximity-based density function, which both captures proximity heuristics and achieves an effect of “soft” passage retrieval. Implement the PLM, all five kernels, but only the Best position strategy to score documents. Use 𝛔 equal to 50, and Dirichlet smoothing with 𝛍 optimized on the validation set (decide how to optimize this value yourself and motivate your decision in the report). **[10 points]**\n",
    "    \n",
    "Implement the above methods and report evaluation measures (on the test set) using the hyper parameter values you optimized on the validation set (also report the values of the hyper parameters). Use TREC Eval to obtain the results and report on `NDCG@10`, Mean Average Precision (`MAP@1000`), `Precision@5` and `Recall@1000`.\n",
    "\n",
    "For the language models, create plots showing `NDCG@10` with varying values of the parameters. You can do this by chaining small scripts using shell scripting (preferred) or execute trec_eval using Python's `subprocess`.\n",
    "\n",
    "Compute significance of the results using a [two-tailed paired Student t-test](https://docs.scipy.org/doc/scipy/reference/generated/scipy.stats.ttest_rel.html) **[10 points]**. Be wary of false rejection of the null hypothesis caused by the [multiple comparisons problem](https://en.wikipedia.org/wiki/Multiple_comparisons_problem). There are multiple ways to mitigate this problem and it is up to you to choose one.\n",
    "\n",
    "Analyse the results by identifying specific queries where different methods succeed or fail and discuss possible reasons that cause these differences.\n",
    "\n",
    "**NOTE**: Don’t forget to use log computations in your calculations to avoid underflows. "
   ]
  },
  {
   "cell_type": "code",
   "execution_count": 191,
   "metadata": {
    "collapsed": false
   },
   "outputs": [],
   "source": [
    "%matplotlib inline\n",
    "import matplotlib.pyplot as plt # Needs to be installed\n",
    "import numpy as np\n",
    "import scipy\n",
    "import math\n",
    "import seaborn as sns # Needs to be installed\n",
    "from collections import Counter, OrderedDict, defaultdict\n",
    "import pickle\n",
    "from functools import partial\n",
    "import heapq\n",
    "from operator import itemgetter\n",
    "import pprofile\n",
    "import subprocess\n",
    "import gensim\n",
    "import cython\n",
    "import logging\n",
    "import pyndri.compat\n",
    "import os\n",
    "logging.basicConfig(level=logging.INFO)\n",
    "\n",
    "########## COLLECTING DOCUMENT STATISTICS ################\n",
    "# Global variables, dictionaries from the index\n",
    "token2id, id2token, id2df = index.get_dictionary()\n",
    "id2colfreq = index.get_term_frequencies()\n",
    "id2colprob = {}\n",
    "start_index, end_index = index.document_base(), index.maximum_document()\n",
    "total_docs = end_index - start_index\n",
    "\n",
    "# Collection length and longest document\n",
    "longest_doc_length = -1\n",
    "collection_length = 0\n",
    "for i in range(start_index, end_index):\n",
    "    doc = index.document(i)\n",
    "    collection_length += len(doc[1])\n",
    "    longest_doc_length = max(longest_doc_length, len(doc[1]))\n",
    "\n",
    "# Average document length\n",
    "avg_doc_length = collection_length / total_docs"
   ]
  },
  {
   "cell_type": "code",
   "execution_count": 192,
   "metadata": {
    "collapsed": false
   },
   "outputs": [],
   "source": [
    "def preprocess_queries(filename='./ap_88_89/topics_title', raw_terms=False):\n",
    "    \"\"\"\n",
    "    Preprocess queries for O(1) access. \n",
    "    From lists of words, to dictionaries \n",
    "    of token_ids and their counts, and optionally\n",
    "    the raw terms used for word2vec/doc2vec, etc.\n",
    "    \"\"\"\n",
    "    with open(filename, 'r') as f_topics:\n",
    "        queries = parse_topics([f_topics])\n",
    "    \n",
    "    processed_queries = OrderedDict()\n",
    "    global id2colprob\n",
    "    \n",
    "    # Preprocessing of all queries\n",
    "    for query_id in queries:\n",
    "        query = queries[query_id]\n",
    "\n",
    "        # Tokenize the query\n",
    "        tokenized_query = index.tokenize(query)\n",
    "\n",
    "        # Get token ids for tokens in the query\n",
    "        token_ids = [token2id.get(token, 0) for token in tokenized_query]\n",
    "\n",
    "        # Remove stopwords\n",
    "        token_ids = [t for t in token_ids if t > 0]\n",
    "\n",
    "        # Construct a dictionary of token_id -> count(token_id) to represent query\n",
    "        query_terms = Counter(token_ids)\n",
    "        \n",
    "        for query_t in query_terms:\n",
    "            if query_t not in id2colprob:\n",
    "                id2colprob[query_t] = id2colfreq[query_t] / collection_length\n",
    "        \n",
    "        query_info = {'terms': query_terms, 'length':len(query_terms)}\n",
    "        \n",
    "        if raw_terms:\n",
    "            # For word2vec/doc2vec, etc.\n",
    "            query_info['raw_terms'] = tuple([id2token[t_id] for t_id in query_terms if id2colfreq[t_id] > 5])\n",
    "        \n",
    "        processed_queries[query_id] = query_info\n",
    "    \n",
    "    return processed_queries\n",
    "\n",
    "# Get all queries to try models on \n",
    "queries = preprocess_queries()\n",
    "\n",
    "def process_docinfo(document):\n",
    "    \"\"\"\n",
    "    Given a document, returns information used by various\n",
    "    scoring measures.\n",
    "    \"\"\"\n",
    "    # Hashmap of words and counts for O(1) access\n",
    "    document_words = Counter(document[1])\n",
    "\n",
    "    # Frequency of most common word in the document.\n",
    "    most_common = document_words.most_common(1)[0][1]\n",
    "\n",
    "    # Length of the document\n",
    "    doc_length = len(document[1])\n",
    "\n",
    "    # Normalized document length\n",
    "    doc_norm_length = doc_length / avg_doc_length\n",
    "\n",
    "    # Number of unique tokens in the document (i.e. document vocabulary)\n",
    "    doc_unique = len(document_words)\n",
    "        \n",
    "    return {'terms': document_words, 'top_freq':most_common, 'text': document[1],\n",
    "            'length':doc_length, 'norm_length':doc_norm_length, 'unique':doc_unique, 'outside_id':document[0]}\n",
    "\n",
    "class TrecEvaluator:\n",
    "    \n",
    "    def __init__(self, validation_data, runfile_name=\"run\"):\n",
    "        self._runfile_name = runfile_name\n",
    "        self._validation_data = validation_data\n",
    "        \n",
    "    def evaluate(self, data, complete=False):\n",
    "        with open(self._runfile_name, \"w\") as f:\n",
    "            write_run(\n",
    "                model_name=self._runfile_name,\n",
    "                data=data,\n",
    "                out_f=f,\n",
    "                max_objects_per_query=1000)\n",
    "            \n",
    "        return self._call_trec_eval_complete() if complete else self._call_trec_eval() \n",
    "    \n",
    "    def _call_trec_eval(self):\n",
    "        \"\"\"\n",
    "        Runs the a shell script which should be present\n",
    "        in the same folder as the notebook. The script calls trec_eval,\n",
    "        with the model scores and returns the results.\n",
    "        \n",
    "        Returns only overall results.\n",
    "        \"\"\"\n",
    "        cmd = ['./run_trec_eval.sh', self._validation_data, self._runfile_name]\n",
    "        result = {}\n",
    "        try:\n",
    "            p = subprocess.Popen(cmd, stdout=subprocess.PIPE)\n",
    "            for line in p.stdout:\n",
    "                frags = line.decode().strip().split()\n",
    "                result[frags[0]] = float(frags[2])\n",
    "            p.wait()\n",
    "        except Exception as e:\n",
    "            print('Error executing evaluation script. ', e)\n",
    "            print('If you are getting permission error from subprocess, use \"chmod +x run_trec_eval.sh\"')\n",
    "        return result\n",
    "    \n",
    "    def _call_trec_eval_complete(self):\n",
    "        \"\"\"\n",
    "        Returns the results for each query\n",
    "        as well as general results.\n",
    "        \n",
    "        Note: Please use chmod +x run_complete_trec_eval.sh if \n",
    "        you are running into Permission errors.\n",
    "        \"\"\"\n",
    "        cmd = ['./run_complete_trec_eval.sh', self._validation_data, self._runfile_name]\n",
    "        result = {}\n",
    "        p = subprocess.Popen(cmd, stdout=subprocess.PIPE)\n",
    "        for line in p.stdout:\n",
    "            frags = line.decode().strip().split()\n",
    "            if frags[1] in result:\n",
    "                result[frags[1]].append({frags[0]: float(frags[2])})\n",
    "            else:\n",
    "                result[frags[1]] = [{frags[0]:float(frags[2])}]\n",
    "            p.wait()\n",
    "        return result\n",
    "\n",
    "# Evaluators for test and validation set.\n",
    "trec_eval = TrecEvaluator(validation_data=\"ap_88_89/qrel_validation\")\n",
    "trec_eval_test = TrecEvaluator(validation_data=\"ap_88_89/qrel_test\")"
   ]
  },
  {
   "cell_type": "markdown",
   "metadata": {},
   "source": [
    "### TF-IDF "
   ]
  },
  {
   "cell_type": "code",
   "execution_count": 193,
   "metadata": {
    "collapsed": false
   },
   "outputs": [],
   "source": [
    "def augmented_termfreq(document, token_id, max_frequency):\n",
    "    \"\"\"\n",
    "    Returns augmented term frequency of a word in the document.\n",
    "    To prevent bias towards larger documents, we divide the \n",
    "    raw term frequency by the maximum raw term frequency of any\n",
    "    term in the document.\n",
    "    \n",
    "    Reference:\n",
    "    http://nlp.stanford.edu/IR-book/html/htmledition/maximum-tf-normalization-1.html\n",
    "    \n",
    "    Args:\n",
    "    - document: A collections.Counter dictionary that maps token_ids to their counts.\n",
    "    - token_id: The unque id of the term, in the collection.\n",
    "    - max_frequency: The maximum raw frequency found in the document.\n",
    "    \"\"\"\n",
    "    term_count = document.get(token_id, 0)\n",
    "    \n",
    "    # Handle 0 case\n",
    "    if term_count == 0:\n",
    "        return 0\n",
    "    \n",
    "    # Return augmented term frequency with smoothing of a = 0.4\n",
    "    # Alternative possible value is 0.5.\n",
    "    return 0.4 + 0.6 * (term_count / max_frequency)\n",
    "\n",
    "def inverse_docfreq(token_id):\n",
    "    \"\"\"\n",
    "    Returns the inverse document frequency of the term.\n",
    "    \n",
    "    Args:\n",
    "    - token_id: The unique id of the term, in the collection.\n",
    "    \"\"\"\n",
    "    df = id2df.get(token_id, 0)\n",
    "    return np.log(total_docs / df)\n",
    "\n",
    "def tf_idf(doc, query, token_id):\n",
    "    \"\"\"\n",
    "    Returns the term-frequency inverse document frequency of a term,\n",
    "    in a document. Calculated as tf(t,d) * idf(t,D).\n",
    "    \n",
    "    Args:\n",
    "    - doc: Dictionary containing document information.\n",
    "    - query: Dictionary containing query information.\n",
    "    - token_id: The unque id of the term, in the collection.\n",
    "    \"\"\"\n",
    "    # Compute augmented term frequency\n",
    "    term_freq = augmented_termfreq(doc['terms'], token_id, doc['top_freq'])\n",
    "    \n",
    "    if term_freq == 0:\n",
    "        return 0\n",
    "    \n",
    "    # Compute inverse document frequency\n",
    "    idf = inverse_docfreq(token_id)\n",
    "    \n",
    "    return term_freq * idf"
   ]
  },
  {
   "cell_type": "markdown",
   "metadata": {},
   "source": [
    "### BM25 ($k_1 = 1.2$, $b = 0.75$)"
   ]
  },
  {
   "cell_type": "code",
   "execution_count": 194,
   "metadata": {
    "collapsed": true
   },
   "outputs": [],
   "source": [
    "def bm25(doc, query, token_id):\n",
    "    \"\"\"\n",
    "    Computes the overal bm25 score which involves\n",
    "    computing the okapi frequency and multiplying it with the\n",
    "    IDF. This method serves as an 'interface' shared by the task 1\n",
    "    scoring methods.\n",
    "    \n",
    "    Args:\n",
    "    - doc: Dictionary containing document information.\n",
    "    - query: Dictionary containing query information.\n",
    "    - token_id: The unque id of the term, in the collection.\n",
    "    \"\"\"\n",
    "    return bm25_score(doc['terms'], token_id, doc['norm_length'])\n",
    "\n",
    "def okapi_frequency(doc_terms, token_id, norm_length, k1, b):\n",
    "    \"\"\"\n",
    "    Returns the okapi frequency of a term, given the hyperparameters\n",
    "    k1 and b.\n",
    "    \n",
    "    Args:\n",
    "    - doc_terms: Dictionary with the terms in the document, and their counts as values.\n",
    "    - token_id: The unque id of the term, in the collection.\n",
    "    - norm_length: Normalized length of the document (i.e. already divided by avg doc length.)\n",
    "    - k1,b: Hyperparameters tuning the importance of term count, doc length.\n",
    "    \"\"\"\n",
    "    term_count = doc_terms.get(token_id, 0)\n",
    "    return ((k1 + 1) * term_count) / (k1 * ((1 - b) + b * norm_length) + term_count)\n",
    "\n",
    "def bm25_score(doc_terms, token_id, norm_length, k1=1.2, b=0.75):\n",
    "    \"\"\"\n",
    "    Computes overal bm 25 score.\n",
    "    \n",
    "    Args:\n",
    "    - doc_terms: Dictionary with the terms in the document, and their counts as values.\n",
    "    - token_id: The unque id of the term, in the collection.\n",
    "    - norm_length: Normalized length of the document (i.e. already divided by avg doc length.)\n",
    "    - k1,b: Hyperparameters tuning the importance of term count, doc length.\n",
    "    \"\"\"\n",
    "    return okapi_frequency(doc_terms, token_id, norm_length, k1, b) * inverse_docfreq(token_id)"
   ]
  },
  {
   "cell_type": "markdown",
   "metadata": {},
   "source": [
    "### Language models\n",
    "\n",
    "General formula for computing scores given a document language model and query is:\n",
    "\n",
    "$$log P(q|d) = \\sum_{tf(q_i, d) > 0} log \\dfrac{P_s (q_i | d)}{\\alpha_d \\cdot P(q_i | C)} + n \\cdot log \\alpha_d$$\n",
    "\n",
    "where: \n",
    "\n",
    "- $\\alpha_d$ is a document dependent constant related to how much probability to allocate to unseen words, according to *a particular smoothing method.*\n",
    "- $P_s(q_i | d)$ is the probability of seeing the respective word given the smoothed document language model.\n",
    "- $n$ is the length of the query.\n",
    "- $P(q_i | C)$ is the probability of the word given the collection language model, which will simply be $\\dfrac{tf(q_i, C)}{\\|C\\|}$"
   ]
  },
  {
   "cell_type": "code",
   "execution_count": 195,
   "metadata": {
    "collapsed": true
   },
   "outputs": [],
   "source": [
    "def jelinek_score(doc, query, token_id, lmbda=0.5):\n",
    "    \"\"\"\n",
    "    'Interface' method with common parameters shared by scoring methods.\n",
    "    Call this method to compute the jelinek smoothed score of a language model\n",
    "    given a document, query and term (token) id.\n",
    "    \"\"\"\n",
    "    term_doc_prob = doc['terms'].get(token_id, 0) / doc['length']\n",
    "    term_col_prob = id2colfreq[token_id] / collection_length\n",
    "    return jelinek_mercer(term_doc_prob, term_col_prob, lmbda)\n",
    "\n",
    "def jelinek_mercer(term_doc_prob, term_col_prob, doc_length, lmbda=0.5):\n",
    "    \"\"\"\n",
    "    Computes and returns the score of a query-document-term pair given a document language model\n",
    "    defined using the Jelinek-Mercer smoothing method.\n",
    "    \n",
    "    Ps = (1 - lambda) * document_prob + lambda * collection_prob\n",
    "    alpha_d = lambda\n",
    "    \n",
    "    Args:\n",
    "    - term_doc_prob: tf(q_i, d) / |d|. The unsmoothed estimate for the term in the document.\n",
    "    - term_col_prob: tf(q_i, C) / |C|. The term collection probability.\n",
    "    - doc_length: |d| - Total length of the document we are computing the score for.\n",
    "    - lmbda: Jelinek-Mercer interpolation parameter.\n",
    "    \"\"\"\n",
    "    # Collection smoothing.\n",
    "    collection_model = lmbda * term_col_prob\n",
    "    \n",
    "    # Smoothed seen probabililty.\n",
    "    seen_prob = ((1.-lmbda) * term_doc_prob) + collection_model\n",
    "    \n",
    "    # Final document score.\n",
    "    return np.log(seen_prob)"
   ]
  },
  {
   "cell_type": "code",
   "execution_count": 196,
   "metadata": {
    "collapsed": true
   },
   "outputs": [],
   "source": [
    "def dirichlet_score(doc, query, token_id, mu=500):\n",
    "    \"\"\"\n",
    "    Returns score for a languge model smoothed using dirichlet prior.\n",
    "    \"\"\"\n",
    "    term_doc_prob = doc['terms'].get(token_id, 0) / doc['length']\n",
    "    term_col_prob = id2colfreq[token_id] / collection_length\n",
    "    return dirichlet_smoothing(doc['terms'].get(token_id, 0), term_col_prob, doc['length'], query['length'], mu)\n",
    "\n",
    "def dirichlet_smoothing(term_doc_freq, term_col_prob, doc_length, query_length, mu=500):\n",
    "    \"\"\"\n",
    "    Score of a query-document pair given a document language model defined\n",
    "    using a Dirichlet Prior for smoothing.\n",
    "    \n",
    "    Args:\n",
    "    - term_doc_prob: tf(q_i, d) / |d|. The unsmoothed estimate for the term in the document.\n",
    "    - term_col_prob: tf(q_i, C) / |C|. The term collection probability.\n",
    "    - doc_length: |d| - Total length of the document we are computing the score for.\n",
    "    - query_length: Length of the query.\n",
    "    - mu: Dirichlet parameter.\n",
    "    \"\"\"\n",
    "    alpha_d = mu / (doc_length + mu)\n",
    "    \n",
    "    # Collection smoothing.\n",
    "    collection_model = alpha_d * term_col_prob\n",
    "    \n",
    "    # Smoothed seen probability\n",
    "    seen_prob = (term_doc_freq  + (mu * term_col_prob)) / (doc_length + mu)\n",
    "    \n",
    "    return np.log(seen_prob)"
   ]
  },
  {
   "cell_type": "code",
   "execution_count": 197,
   "metadata": {
    "collapsed": false
   },
   "outputs": [],
   "source": [
    "def abs_score(doc, query, token_id, delta=0.5):\n",
    "    \"\"\"\n",
    "    Return Absolute discount score.\n",
    "    \"\"\"\n",
    "    term_col_prob = id2colfreq[token_id] / collection_length\n",
    "    \n",
    "    return abs_disc(doc['terms'].get(token_id, 0), term_col_prob, doc['length'], doc['unique'], query['length'], delta)\n",
    "\n",
    "def abs_disc(term_doc_freq, term_col_prob, doc_length, doc_unique, query_length, delta=0.5):\n",
    "    \"\"\"\n",
    "    Score of a query-document pair given a document language model defined\n",
    "    using Absolute Discounting for smoothing.\n",
    "    \n",
    "    Args:\n",
    "    - term_doc_freq: tf(q_i, d). The number of occurances of the term in the document.\n",
    "    - term_col_prob: tf(q_i, C) / |C|. The term collection probability.\n",
    "    - doc_length: |d| - Total length of the document we are computing the score for.\n",
    "    - doc_unique: |d|_u - Number of unique tokens in the document.\n",
    "    - query_length: Length of the query.\n",
    "    - delta: Absolute discounting parameter.\n",
    "    \"\"\"\n",
    "    alpha_d = (delta * doc_unique) / doc_length\n",
    "    \n",
    "    # Collection\n",
    "    collection_model = alpha_d * term_col_prob\n",
    "    \n",
    "    # Smoothed doc prob\n",
    "    seen_prob = (max(term_doc_freq - delta, 0) / doc_length) + collection_model\n",
    "    \n",
    "    return np.log(seen_prob)"
   ]
  },
  {
   "cell_type": "markdown",
   "metadata": {},
   "source": [
    "### Computing scores for each measure"
   ]
  },
  {
   "cell_type": "code",
   "execution_count": 198,
   "metadata": {
    "collapsed": false
   },
   "outputs": [],
   "source": [
    "def compute_score(doc, query, measure_func):\n",
    "    score = 0\n",
    "    for token_id in query['terms']:\n",
    "        score += measure_func(doc=doc, query=query, token_id=token_id)\n",
    "    return score\n",
    "\n",
    "def compute_measure(queries, measure_functions, verbose=True):\n",
    "    \"\"\"\n",
    "    Computes the score for every query-document pair\n",
    "    that have any word in common, using the 'measure_func'\n",
    "    function.\n",
    "    \n",
    "    Returns a dictionary where for each query_id the \n",
    "    values is an array with the top 1000 documents ranked\n",
    "    by their score according to 'measure_func'.\n",
    "    \n",
    "    Args:\n",
    "    - queries: Dictionary with key 'query_id' and values as dicts\n",
    "    of the terms in the query and their counts.\n",
    "    - documents: OrderedDict with keys 'doc_id' and processed docs as values.\n",
    "    - measure_functions: Measure functions that recieve a query and a document\n",
    "    and returns the score according to some predefined metric (e.g. tf-idf, etc.)\n",
    "    \"\"\"\n",
    "    # Initialize scores for all measurement functions\n",
    "    funcscores = []\n",
    "    for x in range(len(measure_functions)):\n",
    "        funcscores.append(defaultdict(list))\n",
    "    \n",
    "    for doc_id in range(start_index, end_index):\n",
    "        if verbose and doc_id % 10000 == 0:\n",
    "            print(\"Processed {0} documents.\".format(doc_id))\n",
    "            \n",
    "        doc = index.document(doc_id)\n",
    "        \n",
    "        if len(doc[1]) == 0:\n",
    "            continue\n",
    "            \n",
    "        document_info = process_docinfo(doc)\n",
    "\n",
    "        # For every query we have, compute the document score.\n",
    "        for query_id in queries:\n",
    "            query_info = queries[query_id]\n",
    "            \n",
    "            ### SIMPLIFYING ASSUMPTION ###\n",
    "            # If no words in common between query-doc, skip.\n",
    "            # This will leave only 6 queries, with < 1000 docs\n",
    "            # However all ranked documents will actually be relevant\n",
    "            # to the query. Please see paper for further details.\n",
    "            if len(set(query_info['terms']).intersection(document_info['terms'])) == 0:\n",
    "                continue\n",
    "            \n",
    "            # Compute and store scores for each measure.\n",
    "            for func_index, measure_func in enumerate(measure_functions):\n",
    "                # Score for current doc-query pair.\n",
    "                pair_score = compute_score(document_info, query_info, measure_func)\n",
    "                curr_score = funcscores[func_index]\n",
    "                curr_score[query_id].append((pair_score, document_info['outside_id']))\n",
    "    \n",
    "    for score in funcscores:\n",
    "        for query_id in score:\n",
    "            score[query_id] = heapq.nlargest(1000, score[query_id], itemgetter(0))\n",
    "    \n",
    "    return funcscores\n",
    "\n",
    "# Save scores for later analysis, so we don't recompute/ hold in memory.\n",
    "tf_file = 'tfidf_scores.p'\n",
    "bm25_file = 'bm25_scores.p'"
   ]
  },
  {
   "cell_type": "code",
   "execution_count": null,
   "metadata": {
    "collapsed": false
   },
   "outputs": [],
   "source": [
    "# Compute scores for models that do not need hyperparameter optimization\n",
    "# i.e. tfidf and bm25.\n",
    "simple_scores = compute_measure(queries, measure_functions=[tf_idf, bm25])\n",
    "tfidfscore, bm25score = simple_scores[0], simple_scores[1]"
   ]
  },
  {
   "cell_type": "code",
   "execution_count": 179,
   "metadata": {
    "collapsed": false
   },
   "outputs": [
    {
     "name": "stdout",
     "output_type": "stream",
     "text": [
      "TF_IDF Validation set score is {'ndcg_cut_10': 0.349, 'recall_1000': 0.5749, 'P_5': 0.3467, 'map_cut_1000': 0.209}\n",
      "BM25 Validation set score is {'ndcg_cut_10': 0.3896, 'recall_1000': 0.6626, 'P_5': 0.3933, 'map_cut_1000': 0.24}\n",
      "TF_IDF Test set score is {'ndcg_cut_10': 0.3428, 'recall_1000': 0.6089, 'P_5': 0.3567, 'map_cut_1000': 0.1829}\n",
      "BM25 Test set score is {'ndcg_cut_10': 0.4109, 'recall_1000': 0.6493, 'P_5': 0.4217, 'map_cut_1000': 0.2183}\n"
     ]
    }
   ],
   "source": [
    "print('TF_IDF Validation set score is {0}'.format(trec_eval.evaluate(data=tfidfscore)))\n",
    "print('BM25 Validation set score is {0}'.format(trec_eval.evaluate(data=bm25score)))\n",
    "print('TF_IDF Test set score is {0}'.format(trec_eval_test.evaluate(data=tfidfscore)))\n",
    "print('BM25 Test set score is {0}'.format(trec_eval_test.evaluate(data=bm25score)))"
   ]
  },
  {
   "cell_type": "code",
   "execution_count": 180,
   "metadata": {
    "collapsed": true
   },
   "outputs": [],
   "source": [
    "with open(tf_file, 'wb') as fp:\n",
    "    pickle.dump(tfidfscore, fp)\n",
    "    \n",
    "with open(bm25_file, 'wb') as fp:\n",
    "    pickle.dump(bm25score, fp)"
   ]
  },
  {
   "cell_type": "code",
   "execution_count": 191,
   "metadata": {
    "collapsed": false
   },
   "outputs": [],
   "source": [
    "# Free memory\n",
    "%reset_selective -f simple_scores\n",
    "%reset_selective -f tfidfscore\n",
    "%reset_selective -f bm25score"
   ]
  },
  {
   "cell_type": "markdown",
   "metadata": {},
   "source": [
    "##### Optimizing hyperparameters for smoothed language models\n",
    "\n",
    "- We can optimize these parameters using either grid-search or a two-stage smoothing model. The former is implemented below for a range of values (it's essentially grid search with result evaluation on the validation set). The latter was not implemented due to time constraints."
   ]
  },
  {
   "cell_type": "code",
   "execution_count": 23,
   "metadata": {
    "collapsed": false
   },
   "outputs": [
    {
     "name": "stdout",
     "output_type": "stream",
     "text": [
      "Processed 10000 documents.\n",
      "Processed 20000 documents.\n",
      "Processed 30000 documents.\n",
      "Processed 40000 documents.\n",
      "Processed 50000 documents.\n",
      "Processed 60000 documents.\n",
      "Processed 70000 documents.\n",
      "Processed 80000 documents.\n",
      "Processed 90000 documents.\n",
      "Processed 100000 documents.\n",
      "Processed 110000 documents.\n",
      "Processed 120000 documents.\n",
      "Processed 130000 documents.\n",
      "Processed 140000 documents.\n",
      "Processed 150000 documents.\n",
      "Processed 160000 documents.\n"
     ]
    }
   ],
   "source": [
    "# Grid search for Jelinek Mercer\n",
    "lambdas = np.arange(0.1,1.0,0.1)\n",
    "jelinek_funcs = [partial(jelinek_score, lmbda=lmbda_value) for lmbda_value in lambdas]\n",
    "jelinek_scores = compute_measure(queries, measure_functions=jelinek_funcs)"
   ]
  },
  {
   "cell_type": "code",
   "execution_count": 29,
   "metadata": {
    "collapsed": false
   },
   "outputs": [
    {
     "name": "stdout",
     "output_type": "stream",
     "text": [
      "Jelinek score for lambda 0.1 is {'P_5': 0.36, 'recall_1000': 0.6091, 'ndcg_cut_10': 0.3658, 'map_cut_1000': 0.2157}\n",
      "Jelinek score for lambda 0.2 is {'P_5': 0.3733, 'recall_1000': 0.6137, 'ndcg_cut_10': 0.3736, 'map_cut_1000': 0.2181}\n",
      "Jelinek score for lambda 0.30000000000000004 is {'P_5': 0.3733, 'recall_1000': 0.6257, 'ndcg_cut_10': 0.3683, 'map_cut_1000': 0.2187}\n",
      "Jelinek score for lambda 0.4 is {'P_5': 0.3933, 'recall_1000': 0.6298, 'ndcg_cut_10': 0.3759, 'map_cut_1000': 0.2197}\n",
      "Jelinek score for lambda 0.5 is {'P_5': 0.38, 'recall_1000': 0.6372, 'ndcg_cut_10': 0.3698, 'map_cut_1000': 0.2194}\n",
      "Jelinek score for lambda 0.6 is {'P_5': 0.3867, 'recall_1000': 0.6353, 'ndcg_cut_10': 0.3715, 'map_cut_1000': 0.2199}\n",
      "Jelinek score for lambda 0.7000000000000001 is {'P_5': 0.3733, 'recall_1000': 0.6337, 'ndcg_cut_10': 0.3788, 'map_cut_1000': 0.2201}\n",
      "Jelinek score for lambda 0.8 is {'P_5': 0.3867, 'recall_1000': 0.634, 'ndcg_cut_10': 0.3823, 'map_cut_1000': 0.2204}\n",
      "Jelinek score for lambda 0.9 is {'P_5': 0.3933, 'recall_1000': 0.624, 'ndcg_cut_10': 0.3868, 'map_cut_1000': 0.2175}\n"
     ]
    }
   ],
   "source": [
    "jelinek_trec_scores = []\n",
    "for i, score in enumerate(jelinek_scores):\n",
    "    trec_score = trec_eval.evaluate(data=score)\n",
    "    # Show score\n",
    "    print('Jelinek score for lambda {0} is {1}'.format(lambdas[i], trec_score))\n",
    "    trec_score['lambda'] = lambdas[i]\n",
    "    jelinek_trec_scores.append(trec_score)\n",
    "    \n",
    "# Save to not compute again\n",
    "jelinek_file = 'jelinek_validation.p'\n",
    "with open(jelinek_file, 'wb') as fp:\n",
    "    pickle.dump(jelinek_trec_scores, fp)"
   ]
  },
  {
   "cell_type": "code",
   "execution_count": 215,
   "metadata": {
    "collapsed": false
   },
   "outputs": [
    {
     "name": "stdout",
     "output_type": "stream",
     "text": [
      "Best Jelinek-Mercer score using NDCG is 0.3868 with lambda of 0.9\n"
     ]
    }
   ],
   "source": [
    "# Load and plot jelinek scores for all parameter values\n",
    "# And select best model\n",
    "\n",
    "# This is last minute, so a bit contrived.\n",
    "pos = {lmbda:position for position, lmbda in enumerate(lambdas)}\n",
    "\n",
    "with open('jelinek_validation.p', 'rb') as fp:\n",
    "    jelinek_all_scores = pickle.load(fp)\n",
    "    \n",
    "jelinek_ndcg_10 = [0] * len(jelinek_all_scores)\n",
    "\n",
    "for score in jelinek_all_scores:\n",
    "    pos = lambdas.index(score['lambda'])\n",
    "    jelinek_ndcg_10[pos] = score['ndcg_cut_10']\n",
    "    \n",
    "best_ndcg = max(jelinek_ndcg_10)\n",
    "best_lambda = lambdas[jelinek_ndcg_10.index(max(jelinek_ndcg_10))]\n",
    "print('Best Jelinek-Mercer score using NDCG is {0} with lambda of {1}'.format(best_ndcg, best_lambda))"
   ]
  },
  {
   "cell_type": "code",
   "execution_count": 214,
   "metadata": {
    "collapsed": false
   },
   "outputs": [
    {
     "name": "stdout",
     "output_type": "stream",
     "text": [
      "Test set results of jelinek optimized on validation set are: \n",
      "\n",
      "{'recall_1000': 0.6288, 'P_5': 0.375, 'ndcg_cut_10': 0.3849, 'map_cut_1000': 0.1977}\n"
     ]
    }
   ],
   "source": [
    "# # Recompute Jelinek-Mercer module with best lambda, and present results on test set.\n",
    "best_jelinek_score = compute_measure(queries, measure_functions=[partial(jelinek_score, lmbda=best_lambda)], verbose=False)\n",
    "with open('best_jelinek_scores.p', 'wb') as fp:\n",
    "    pickle.dump(best_jelinek_score[0], fp)\n",
    "\n",
    "print('Test set results of jelinek optimized on validation set are: \\n')\n",
    "print(trec_eval_test.evaluate(data=best_jelinek_score[0]))"
   ]
  },
  {
   "cell_type": "code",
   "execution_count": 44,
   "metadata": {
    "collapsed": false
   },
   "outputs": [
    {
     "name": "stdout",
     "output_type": "stream",
     "text": [
      "Once deleted, variables cannot be recovered. Proceed (y/[n])? y\n"
     ]
    }
   ],
   "source": [
    "# Clean memory\n",
    "%reset # Note: you need to rerun some initial functions."
   ]
  },
  {
   "cell_type": "code",
   "execution_count": 69,
   "metadata": {
    "collapsed": false
   },
   "outputs": [
    {
     "name": "stdout",
     "output_type": "stream",
     "text": [
      "Processed 10000 documents.\n",
      "Processed 20000 documents.\n",
      "Processed 30000 documents.\n",
      "Processed 40000 documents.\n",
      "Processed 50000 documents.\n",
      "Processed 60000 documents.\n",
      "Processed 70000 documents.\n",
      "Processed 80000 documents.\n",
      "Processed 90000 documents.\n",
      "Processed 100000 documents.\n",
      "Processed 110000 documents.\n",
      "Processed 120000 documents.\n",
      "Processed 130000 documents.\n",
      "Processed 140000 documents.\n",
      "Processed 150000 documents.\n",
      "Processed 160000 documents.\n"
     ]
    }
   ],
   "source": [
    "# Grid search for Dirichlet Prior\n",
    "mus = np.arange(500,2500,500)\n",
    "dirichlet_funcs = [partial(dirichlet_score, mu=mu_value) for mu_value in mus]\n",
    "dirichlet_scores = compute_measure(queries, measure_functions=dirichlet_funcs)"
   ]
  },
  {
   "cell_type": "code",
   "execution_count": 70,
   "metadata": {
    "collapsed": false
   },
   "outputs": [
    {
     "name": "stdout",
     "output_type": "stream",
     "text": [
      "Dirichlet score for mu 500 is {'P_5': 0.4067, 'recall_1000': 0.6203, 'ndcg_cut_10': 0.3936, 'map_cut_1000': 0.232}\n",
      "Dirichlet score for mu 1000 is {'P_5': 0.4, 'recall_1000': 0.6305, 'ndcg_cut_10': 0.404, 'map_cut_1000': 0.2397}\n",
      "Dirichlet score for mu 1500 is {'P_5': 0.4, 'recall_1000': 0.636, 'ndcg_cut_10': 0.4024, 'map_cut_1000': 0.2406}\n",
      "Dirichlet score for mu 2000 is {'P_5': 0.3933, 'recall_1000': 0.6302, 'ndcg_cut_10': 0.3998, 'map_cut_1000': 0.2406}\n"
     ]
    }
   ],
   "source": [
    "dirichlet_trec_scores = []\n",
    "for i, score in enumerate(dirichlet_scores):\n",
    "    trec_score = trec_eval.evaluate(data=score)\n",
    "    # Show score\n",
    "    print('Dirichlet score for mu {0} is {1}'.format(mus[i], trec_score))\n",
    "    trec_score['mu'] = mus[i]\n",
    "    dirichlet_trec_scores.append(trec_score)\n",
    "    \n",
    "# Save to not compute again\n",
    "dirichlet_file = 'dirichlet_validation.p'\n",
    "with open(dirichlet_file, 'wb') as fp:\n",
    "    pickle.dump(dirichlet_trec_scores, fp)"
   ]
  },
  {
   "cell_type": "code",
   "execution_count": 217,
   "metadata": {
    "collapsed": false
   },
   "outputs": [
    {
     "name": "stdout",
     "output_type": "stream",
     "text": [
      "Best Dirichlet score using NDCG is 0.404 with mu of 1000\n"
     ]
    }
   ],
   "source": [
    "# Load and plot dirichlet scores for all parameter values\n",
    "# And select best model.\n",
    "mus = list(np.arange(500,2500,500))\n",
    "pos = {mu:position for position, mu in enumerate(mus)}\n",
    "\n",
    "# Fetch dirichlet scores\n",
    "with open('dirichlet_validation.p', 'rb') as fp:\n",
    "    dirichlet_all_scores = pickle.load(fp)\n",
    "\n",
    "# Get best mu.\n",
    "dirichlet_ndcg_10 = [0] * len(dirichlet_all_scores)\n",
    "\n",
    "for score in dirichlet_all_scores:\n",
    "    pos = mus.index(score['mu'])\n",
    "    dirichlet_ndcg_10[pos] = score['ndcg_cut_10']\n",
    "\n",
    "# Show best mu.\n",
    "best_ndcg = max(dirichlet_ndcg_10)\n",
    "best_mu = mus[dirichlet_ndcg_10.index(max(dirichlet_ndcg_10))]\n",
    "print('Best Dirichlet score using NDCG is {0} with mu of {1}'.format(best_ndcg, best_mu))"
   ]
  },
  {
   "cell_type": "code",
   "execution_count": 219,
   "metadata": {
    "collapsed": false
   },
   "outputs": [
    {
     "name": "stdout",
     "output_type": "stream",
     "text": [
      "Test set results of dirichlet optimized on validation set are: \n",
      "\n",
      "{'recall_1000': 0.6313, 'P_5': 0.4283, 'ndcg_cut_10': 0.4139, 'map_cut_1000': 0.2119}\n"
     ]
    }
   ],
   "source": [
    "# Recompute Dirichlet Prior module with best mu, and present results on test set.\n",
    "best_dirichlet_score = compute_measure(queries, measure_functions=[partial(dirichlet_score, mu=best_mu)], verbose=False)\n",
    "with open('best_dirichlet_scores.p', 'wb') as fp:\n",
    "    pickle.dump(best_dirichlet_score[0], fp)\n",
    "\n",
    "print('Test set results of dirichlet optimized on validation set are: \\n')\n",
    "print(trec_eval_test.evaluate(data=best_dirichlet_score[0]))"
   ]
  },
  {
   "cell_type": "code",
   "execution_count": 72,
   "metadata": {
    "collapsed": false
   },
   "outputs": [
    {
     "name": "stdout",
     "output_type": "stream",
     "text": [
      "Once deleted, variables cannot be recovered. Proceed (y/[n])? y\n"
     ]
    }
   ],
   "source": [
    "%reset # Note: you need to rerun initial functions."
   ]
  },
  {
   "cell_type": "code",
   "execution_count": 90,
   "metadata": {
    "collapsed": false
   },
   "outputs": [
    {
     "name": "stdout",
     "output_type": "stream",
     "text": [
      "Processed 10000 documents.\n",
      "Processed 20000 documents.\n",
      "Processed 30000 documents.\n",
      "Processed 40000 documents.\n",
      "Processed 50000 documents.\n",
      "Processed 60000 documents.\n",
      "Processed 70000 documents.\n",
      "Processed 80000 documents.\n",
      "Processed 90000 documents.\n",
      "Processed 100000 documents.\n",
      "Processed 110000 documents.\n",
      "Processed 120000 documents.\n",
      "Processed 130000 documents.\n",
      "Processed 140000 documents.\n",
      "Processed 150000 documents.\n",
      "Processed 160000 documents.\n"
     ]
    }
   ],
   "source": [
    "# Grid search for Absolute Discounting\n",
    "deltas = np.arange(0.1,1.0,0.1)\n",
    "abs_funcs = [partial(abs_score, delta=delta_value) for delta_value in deltas]\n",
    "abs_scores = compute_measure(queries, measure_functions=abs_funcs)"
   ]
  },
  {
   "cell_type": "code",
   "execution_count": 91,
   "metadata": {
    "collapsed": false
   },
   "outputs": [
    {
     "name": "stdout",
     "output_type": "stream",
     "text": [
      "Absolute Discounting score for delta 0.1 is {'P_5': 0.3533, 'recall_1000': 0.604, 'ndcg_cut_10': 0.3548, 'map_cut_1000': 0.2121}\n",
      "Absolute Discounting score for delta 0.2 is {'P_5': 0.3667, 'recall_1000': 0.6023, 'ndcg_cut_10': 0.3705, 'map_cut_1000': 0.2146}\n",
      "Absolute Discounting score for delta 0.30000000000000004 is {'P_5': 0.3933, 'recall_1000': 0.609, 'ndcg_cut_10': 0.3635, 'map_cut_1000': 0.2167}\n",
      "Absolute Discounting score for delta 0.4 is {'P_5': 0.3933, 'recall_1000': 0.6236, 'ndcg_cut_10': 0.3641, 'map_cut_1000': 0.2189}\n",
      "Absolute Discounting score for delta 0.5 is {'P_5': 0.4067, 'recall_1000': 0.6292, 'ndcg_cut_10': 0.3645, 'map_cut_1000': 0.2203}\n",
      "Absolute Discounting score for delta 0.6 is {'P_5': 0.4133, 'recall_1000': 0.6412, 'ndcg_cut_10': 0.3637, 'map_cut_1000': 0.2221}\n",
      "Absolute Discounting score for delta 0.7000000000000001 is {'P_5': 0.3933, 'recall_1000': 0.6504, 'ndcg_cut_10': 0.3673, 'map_cut_1000': 0.2234}\n",
      "Absolute Discounting score for delta 0.8 is {'P_5': 0.3867, 'recall_1000': 0.6585, 'ndcg_cut_10': 0.368, 'map_cut_1000': 0.2228}\n",
      "Absolute Discounting score for delta 0.9 is {'P_5': 0.3867, 'recall_1000': 0.6559, 'ndcg_cut_10': 0.3763, 'map_cut_1000': 0.2223}\n"
     ]
    }
   ],
   "source": [
    "abs_trec_scores = []\n",
    "for i, score in enumerate(abs_scores):\n",
    "    trec_score = trec_eval.evaluate(data=score)\n",
    "    # Show score\n",
    "    print('Absolute Discounting score for delta {0} is {1}'.format(deltas[i], trec_score))\n",
    "    trec_score['delta'] = deltas[i]\n",
    "    abs_trec_scores.append(trec_score)\n",
    "    \n",
    "# Save to not compute again\n",
    "abs_file = 'absdisc_validation.p'\n",
    "with open(abs_file, 'wb') as fp:\n",
    "    pickle.dump(abs_trec_scores, fp)"
   ]
  },
  {
   "cell_type": "code",
   "execution_count": 224,
   "metadata": {
    "collapsed": false
   },
   "outputs": [
    {
     "name": "stdout",
     "output_type": "stream",
     "text": [
      "Best Abs Discounting score using NDCG is 0.3763 with delta of 0.9\n"
     ]
    }
   ],
   "source": [
    "# Load and plot Abs Discounting scores for all parameter values\n",
    "# And select best model.\n",
    "deltas = list(np.arange(0.1,1.0,0.1))\n",
    "pos = {delta:position for position, delta in enumerate(deltas)}\n",
    "\n",
    "# Fetch absolute discounting scores\n",
    "with open('absdisc_validation.p', 'rb') as fp:\n",
    "    absdisc_all_scores = pickle.load(fp)\n",
    "\n",
    "# Get best delta.\n",
    "absdisc_ndcg_10 = [0] * len(absdisc_all_scores)\n",
    "\n",
    "for score in absdisc_all_scores:\n",
    "    pos = deltas.index(score['delta'])\n",
    "    absdisc_ndcg_10[pos] = score['ndcg_cut_10']\n",
    "\n",
    "# Show best mu.\n",
    "best_ndcg = max(absdisc_ndcg_10)\n",
    "best_delta = deltas[absdisc_ndcg_10.index(max(absdisc_ndcg_10))]\n",
    "print('Best Abs Discounting score using NDCG is {0} with delta of {1}'.format(best_ndcg, best_delta))"
   ]
  },
  {
   "cell_type": "code",
   "execution_count": 223,
   "metadata": {
    "collapsed": false
   },
   "outputs": [
    {
     "name": "stdout",
     "output_type": "stream",
     "text": [
      "Test set results of abs discounting optimized on validation set are: \n",
      "\n",
      "{'recall_1000': 0.6258, 'P_5': 0.4017, 'ndcg_cut_10': 0.396, 'map_cut_1000': 0.2037}\n"
     ]
    }
   ],
   "source": [
    "# Recompute Abs Disc. module with best mu, and present results on test set.\n",
    "best_absdisc_score = compute_measure(queries, measure_functions=[partial(abs_score, delta=best_delta)], verbose=False)\n",
    "with open('best_absdisc_scores.p', 'wb') as fp:\n",
    "    pickle.dump(best_absdisc_score[0], fp)\n",
    "\n",
    "print('Test set results of abs discounting optimized on validation set are: \\n')\n",
    "print(trec_eval_test.evaluate(data=best_absdisc_score[0]))"
   ]
  },
  {
   "cell_type": "code",
   "execution_count": 240,
   "metadata": {
    "collapsed": false
   },
   "outputs": [
    {
     "name": "stderr",
     "output_type": "stream",
     "text": [
      "/usr/local/lib/python3.5/dist-packages/matplotlib/font_manager.py:1297: UserWarning: findfont: Font family ['sans-serif'] not found. Falling back to DejaVu Sans\n",
      "  (prop.get_family(), self.defaultFamily[fontext]))\n"
     ]
    },
    {
     "data": {
      "image/png": "[encoded data removed]",
      "text/plain": [
       "<matplotlib.figure.Figure at 0x7f61a9699320>"
      ]
     },
     "metadata": {},
     "output_type": "display_data"
    }
   ],
   "source": [
    "## Plots\n",
    "f = plt.figure()\n",
    "f.set_size_inches((15, 6))\n",
    "ax1 = plt.subplot(1, 3, 1)\n",
    "\n",
    "lamb = np.arange(0.1, 1.0, 0.1)\n",
    "\n",
    "ax1.plot(lamb, jelinek_ndcg_10)\n",
    "\n",
    "ax1.grid(True)\n",
    "\n",
    "# plt.ylim((0.24, 0.34))\n",
    "plt.ylabel('NDCG')\n",
    "plt.xlabel('Lambda')\n",
    "plt.title('Jelinek-Mercer')\n",
    "\n",
    "ax2 = plt.subplot(1, 3, 2)\n",
    "\n",
    "mus = np.arange(500,2500,500)\n",
    "\n",
    "ax2.plot(mus, dirichlet_ndcg_10)\n",
    "\n",
    "# plt.ylim((0.24, 0.34))\n",
    "plt.ylabel('NDCG')\n",
    "plt.xlabel('u')\n",
    "plt.title('Dirichlet Prior')\n",
    "ax2.grid(True)\n",
    "\n",
    "ax3 = plt.subplot(1, 3, 3)\n",
    "\n",
    "delta = np.arange(0.1, 1.0, 0.1)\n",
    "\n",
    "ax3.plot(delta, absdisc_ndcg_10)\n",
    "\n",
    "# plt.ylim((0.24, 0.34))\n",
    "plt.ylabel('NDCG')\n",
    "plt.xlabel('delta')\n",
    "plt.title('Absolute Discounting')\n",
    "ax3.grid(True)\n",
    "\n",
    "plt.show()"
   ]
  },
  {
   "cell_type": "code",
   "execution_count": 92,
   "metadata": {
    "collapsed": false
   },
   "outputs": [
    {
     "name": "stdout",
     "output_type": "stream",
     "text": [
      "Once deleted, variables cannot be recovered. Proceed (y/[n])? y\n"
     ]
    }
   ],
   "source": [
    "%reset"
   ]
  },
  {
   "cell_type": "markdown",
   "metadata": {},
   "source": [
    "#### Positional Language Model\n",
    "\n",
    "- The main bottleneck of PLM is the computation of the Zi's, but as the author of the paper suggests, a Z_i can be calculated easily using an integration over the entire document space, which gives a form dependent on the cumulative distribution of each kernel function. Below are the final implementations of this integration and it's resultant form for each kernel, furthermore I also show that the sum computed normally is equal to the one computed using this implementation. \n",
    "\n",
    "**Note**: For the Gaussian kernel I use the Abramowitz and Stegun approximation of the cumulative normal distribution. This approximation is very good, as there seems to be only extremely minor differences. This does not affect ranking and can be seen after the implementations of the algorithm.\n",
    "\n",
    "Other optimizations performed: \n",
    "- I don't use the entire dataset, only the top 1k from the TF-IDF scoring, which will also help to compare as a baseline. This is motivated by the fact that I can still show a complete correct implementation of the model, but reduce the scale for computational purposes."
   ]
  },
  {
   "cell_type": "code",
   "execution_count": 13,
   "metadata": {
    "collapsed": true
   },
   "outputs": [],
   "source": [
    "def triangle_kernel(i, j, sigma=50.0):\n",
    "    distance = abs(i - j)\n",
    "    return 1 - distance / sigma if distance <= sigma else 0\n",
    "\n",
    "def gaussian_kernel(i, j, sigma=50.0):\n",
    "    return np.exp(-(i - j) ** 2 / (2 * sigma ** 2))\n",
    "\n",
    "def cosine_kernel(i, j, sigma=50.0):\n",
    "    distance = abs(i - j)\n",
    "    return 0.5  + 0.5 * np.cos(distance * np.pi / sigma) if distance <= sigma else 0\n",
    "\n",
    "def circle_kernel(i, j, sigma=50.0):\n",
    "    distance = abs(i - j)\n",
    "    return np.sqrt(1 - (distance / sigma) ** 2) if distance <= sigma else 0\n",
    "\n",
    "def passage_kernel(i, j, sigma=50.0):\n",
    "    distance = abs(i - j)\n",
    "    return 1 if distance <= sigma else 0"
   ]
  },
  {
   "cell_type": "code",
   "execution_count": 14,
   "metadata": {
    "collapsed": false
   },
   "outputs": [],
   "source": [
    "## Cumulative distirbution functions for the kernels.\n",
    "\n",
    "def triangle_CDF(x, mean, sigma=50):\n",
    "    res = 0\n",
    "    x = (x - mean) / float(sigma)\n",
    "    if x >= 1:\n",
    "        res = sigma\n",
    "    elif x < -1:\n",
    "        res = 0\n",
    "    elif x < 0:\n",
    "        res = sigma * (1 - abs(x)) * (1 - abs(x)) / 2.0\n",
    "    else:\n",
    "        res = sigma - sigma * (1 - x) * (1 - x) / 2.0\n",
    "    return res\n",
    "\n",
    "def gaussian_CDF(x, mean, sigma=50):\n",
    "    # Abramowitz and Stegun approximation.\n",
    "    res = 0.0\n",
    "    x = (x - mean) / float(sigma)\n",
    "    if x == 0:\n",
    "        res = 0.5\n",
    "    else:\n",
    "        oor_2_pi = 1.0 / (np.sqrt(2.0 * np.pi))\n",
    "        t = 1.0 / (1.0 + 0.2316419 * abs(x))\n",
    "        t *= oor_2_pi * np.exp(-0.5 * x * x) * (0.31938153   + t * (-0.356563782 + t * (1.781477937  + t * (-1.821255978 + t * 1.330274429))))\n",
    "        if x >= 0:\n",
    "            res = 1.0 - t\n",
    "        else:\n",
    "            res = t\n",
    "    return res\n",
    "\n",
    "def cosine_CDF(x, mean, sigma=50):\n",
    "    res = 0\n",
    "    x = (x - mean) / sigma\n",
    "    if x >= 1:\n",
    "        res = sigma\n",
    "    elif x < -1:\n",
    "        res = 0\n",
    "    elif x < 0:\n",
    "        res = sigma * (1 + x - np.sin(np.pi * x) / np.pi) / 2.0\n",
    "    else:\n",
    "        res = sigma - sigma * (1 - x + np.sin(np.pi * x) / np.pi) / 2.0\n",
    "    \n",
    "    return res\n",
    "\n",
    "def circle_CDF(x, mean, sigma=50):\n",
    "    res = 0\n",
    "    x = (x - mean) / sigma\n",
    "    if x >= 1:\n",
    "        res = sigma * (np.pi / 2.0)\n",
    "    elif x < -1:\n",
    "        res = 0\n",
    "    elif x < 0:\n",
    "        res = sigma * (math.asin(x) + np.pi / 2.0 - np.sqrt(1 - x * x))\n",
    "    else:\n",
    "        res = (np.pi * 2.0) * sigma - sigma * (math.asin(-x) + np.pi / 2.0 - np.sqrt(1 - x * x))\n",
    "    return res"
   ]
  },
  {
   "cell_type": "code",
   "execution_count": 15,
   "metadata": {
    "collapsed": true
   },
   "outputs": [],
   "source": [
    "# These functions help compute Z_is directly using \n",
    "# cumulative distribution functions defined in previous cell.\n",
    "# (or their approximation - gaussian)\n",
    "# (and just a basic algo for the passage kernel)\n",
    "\n",
    "def triangle_normalization(position, doc_length, sigma):\n",
    "    return triangle_CDF(doc_length, position, sigma) - triangle_CDF(0.0, position, sigma)\n",
    "\n",
    "def gaussian_normalization(position, doc_length, sigma):\n",
    "    return np.sqrt(2.0 * np.pi) * sigma * (gaussian_CDF(doc_length-1, position, sigma) - gaussian_CDF(0.0, position, sigma))\n",
    "\n",
    "def cosine_normalization(position, doc_length, sigma):\n",
    "    return cosine_CDF(doc_length, position, sigma) - cosine_CDF(0.0, position, sigma)\n",
    "\n",
    "def circle_normalization(position, doc_length, sigma):\n",
    "    return circle_CDF(doc_length, position, sigma) - circle_CDF(0.0, position, sigma)\n",
    "\n",
    "def passage_normalization(position, doc_length, sigma=50):\n",
    "    psg = 0\n",
    "    if sigma > doc_length - position:\n",
    "        psg += doc_length - position\n",
    "    else:\n",
    "        psg += sigma\n",
    "        \n",
    "    if sigma > position:\n",
    "        psg += position\n",
    "    else:\n",
    "        if position > sigma:\n",
    "            psg += sigma + 1\n",
    "        else:\n",
    "            psg += sigma\n",
    "        \n",
    "    return psg"
   ]
  },
  {
   "cell_type": "code",
   "execution_count": 16,
   "metadata": {
    "collapsed": false
   },
   "outputs": [
    {
     "name": "stdout",
     "output_type": "stream",
     "text": [
      "Gaussian\n",
      "105.142650233\n",
      "105.446925755\n",
      "\n",
      "Cosine\n",
      "50.0\n",
      "50.0\n",
      "\n",
      "Circle\n",
      "78.4567127775\n",
      "78.5398163397\n",
      "\n",
      "Triangle\n",
      "50.0\n",
      "50.0\n",
      "\n",
      "Passage\n",
      "100\n",
      "100\n",
      "------\n",
      "Gaussian\n",
      "124.530996064\n",
      "124.553145777\n",
      "\n",
      "Cosine\n",
      "50.0\n",
      "50\n",
      "\n",
      "Circle\n",
      "78.4567127775\n",
      "78.53981633974483\n",
      "\n",
      "Triangle\n",
      "50.0\n",
      "50\n",
      "\n",
      "Passage\n",
      "101\n",
      "101\n",
      "------\n",
      "Gaussian\n",
      "125.331341817\n",
      "125.331337841\n",
      "\n",
      "Cosine\n",
      "50.0\n",
      "50\n",
      "\n",
      "Circle\n",
      "78.4567127775\n",
      "78.53981633974483\n",
      "\n",
      "Triangle\n",
      "50.0\n",
      "50\n",
      "\n",
      "Passage\n",
      "101\n",
      "101\n",
      "------\n"
     ]
    }
   ],
   "source": [
    "## CDF normalization is done to compute Z_i's faster.\n",
    "## Testing some values for correctness:\n",
    "\n",
    "sigma = 50\n",
    "positions = [50, 125, 250]\n",
    "doc_length = 500\n",
    "\n",
    "for pos in positions:\n",
    "    print('Gaussian')\n",
    "    print(sum([gaussian_kernel(pos,j,sigma) for j in range(1, doc_length + 1)]))\n",
    "    print(gaussian_normalization(pos, doc_length, sigma))\n",
    "\n",
    "    print('\\nCosine')\n",
    "    print(sum([cosine_kernel(pos,j,sigma) for j in range(1, doc_length + 1)]))\n",
    "    print(cosine_normalization(pos, doc_length, sigma))\n",
    "    \n",
    "    print('\\nCircle')\n",
    "    print(sum([circle_kernel(pos,j,sigma) for j in range(1, doc_length + 1)]))\n",
    "    print(circle_normalization(pos, doc_length, sigma))\n",
    "\n",
    "    print('\\nTriangle')\n",
    "    print(sum([triangle_kernel(pos,j,sigma) for j in range(1, doc_length + 1)]))\n",
    "    print(triangle_normalization(pos, doc_length, sigma))\n",
    "\n",
    "    print('\\nPassage')\n",
    "    print(sum([passage_kernel(pos,j,sigma) for j in range(1, doc_length + 1)]))\n",
    "    print(passage_normalization(pos, doc_length, sigma))\n",
    "    print('------')"
   ]
  },
  {
   "cell_type": "code",
   "execution_count": 19,
   "metadata": {
    "collapsed": false
   },
   "outputs": [],
   "source": [
    "# Compute all kernel operations beforehand\n",
    "# by computing a kernel matrix of the maximum document length\n",
    "# for each kernel operation. This ensures that now any k(i,j) is O(1)\n",
    "g_matrix = np.zeros((longest_doc_length,longest_doc_length))\n",
    "circle_matrix = np.zeros((longest_doc_length,longest_doc_length))\n",
    "passage_matrix = np.zeros((longest_doc_length,longest_doc_length))\n",
    "cosine_matrix = np.zeros((longest_doc_length,longest_doc_length))\n",
    "triangle_matrix = np.zeros((longest_doc_length,longest_doc_length))\n",
    "\n",
    "for x in range(longest_doc_length):\n",
    "    for y in range(longest_doc_length):\n",
    "        g_matrix[x][y] = gaussian_kernel(x,y)\n",
    "        circle_matrix[x][y] = circle_kernel(x,y)\n",
    "        passage_matrix[x][y] = passage_kernel(x,y)\n",
    "        cosine_matrix[x][y] = cosine_kernel(x,y)\n",
    "        triangle_matrix[x][y] = triangle_kernel(x,y)\n",
    "        \n",
    "# Note: Later I realized that if you do a blocksize sum (G[i,0:N]), you can actually compute Zi using the matrix,\n",
    "# but I had already done some of the integrations for the CDF so I will use that method. \n",
    "# performance should be similar."
   ]
  },
  {
   "cell_type": "code",
   "execution_count": 31,
   "metadata": {
    "collapsed": false
   },
   "outputs": [],
   "source": [
    "def load_tfidf_res(top_k=1000, get_docs=True):    \n",
    "    \"\"\"\n",
    "    Load TF-IDF query-documents to rerank using another model\n",
    "    Only load first top_k documents for eacy query, where top_k can be\n",
    "    max 1000.\n",
    "    \n",
    "    If get_docs=True returns a mapping from the top_k documents\n",
    "    to a list of queries where to document is in the top_k of that query.\n",
    "    i.e. 'doc_id' -> [queries]\n",
    "    \n",
    "    If get_docs=False, returns a mapping of query to top documents. But\n",
    "    returns only doc_ids and not their scores.\n",
    "    \"\"\"\n",
    "    with open(tf_file, 'rb') as fp:\n",
    "        tf_idf_results = pickle.load(fp)\n",
    "    \n",
    "    ranked_list = OrderedDict()\n",
    "    if get_docs:\n",
    "        for query_id in tf_idf_results:\n",
    "            docs = tf_idf_results[query_id][:top_k]\n",
    "            docs = index.document_ids([doc[1] for doc in docs])\n",
    "            for _, doc_id in docs:\n",
    "                if not doc_id in ranked_list:\n",
    "                    ranked_list[doc_id] = [query_id]\n",
    "                else:\n",
    "                    ranked_list[doc_id].append(query_id)\n",
    "    else:\n",
    "        for query_id in tf_idf_results:\n",
    "            docs = tf_idf_results[query_id][:top_k]\n",
    "            docs = index.document_ids([doc[1] for doc in docs])\n",
    "            \n",
    "            # Save only the document identifier.\n",
    "            ranked_list[query_id] = [doc[1] for doc in docs] \n",
    "            \n",
    "    return ranked_list"
   ]
  },
  {
   "cell_type": "code",
   "execution_count": null,
   "metadata": {
    "collapsed": true
   },
   "outputs": [],
   "source": [
    "ranked_docs = load_tfidf_res(top_k=400)\n",
    "print(len(ranked_docs))"
   ]
  },
  {
   "cell_type": "code",
   "execution_count": 18,
   "metadata": {
    "collapsed": true
   },
   "outputs": [],
   "source": [
    "def pos_process_doc(document):\n",
    "    \"\"\"\n",
    "    Process a document transforming every term into\n",
    "    a dictionary key with it's positions in the document as values.\n",
    "    \"\"\"\n",
    "    # Save positions of every term.\n",
    "    doc_words = {}\n",
    "    for pos, term in enumerate(document[1]):\n",
    "        if term in doc_words:\n",
    "            doc_words[term].append(pos)\n",
    "        else:\n",
    "            doc_words[term] = []\n",
    "    return doc_words"
   ]
  },
  {
   "cell_type": "code",
   "execution_count": 19,
   "metadata": {
    "collapsed": false
   },
   "outputs": [],
   "source": [
    "import time\n",
    "import itertools\n",
    "## Implementation of PLM model\n",
    "def plm_score(document, doc_words, doc_zcache, query, mu=500, sigma=50):\n",
    "    \"\"\"\n",
    "    Positional language model scoring given a document and a query.\n",
    "    Several optimizations are made, most explained in the paper.\n",
    "    One obvious one is, given a document where query words are denoted with q\n",
    "\n",
    "    -----------q--------------q---------------------------q-----------\n",
    "    \n",
    "    We cut the 'tails' of the document to start from the left and right q,\n",
    "    as biggest PLM will always be within that center.\n",
    "    \n",
    "    Uses CDF functions for Zi computation. Computes all 5 kernel scores.\n",
    "    \"\"\"\n",
    "    biggest_score = [-99999999,-99999999,-99999999,-99999999,-99999999]\n",
    "    doc_length = len(document[1])\n",
    "    query_length = query['length']\n",
    "    \n",
    "    # Query likelihood model\n",
    "    qlm = 1.0 / query_length\n",
    "    \n",
    "    first, last = 0, doc_length-1\n",
    "    while document[1][first] not in query['terms'] and document[1][last] not in query['terms']:\n",
    "        if document[1][first] not in query['terms']:\n",
    "            first += 1\n",
    "        \n",
    "        if document[1][last] not in query['terms']:\n",
    "            last -= 1\n",
    "\n",
    "    # For every position in the document\n",
    "    # compute a PLM\n",
    "    for i in range(first, last+1):\n",
    "        # i is the position of current PLM\n",
    "        # Get Z_i for the current position\n",
    "        # Use memoization\n",
    "        if i not in doc_zcache:\n",
    "            doc_zcache[i] = [gaussian_normalization(position=i, doc_length=doc_length, sigma=sigma),\n",
    "                             circle_normalization(position=i, doc_length=doc_length, sigma=sigma),\n",
    "                             passage_normalization(position=i, doc_length=doc_length, sigma=sigma),\n",
    "                             cosine_normalization(position=i, doc_length=doc_length, sigma=sigma),\n",
    "                            triangle_normalization(position=i, doc_length=doc_length, sigma=sigma)]\n",
    "                        \n",
    "        # Initialize propagated count for all words in the query.\n",
    "        # For all kernels\n",
    "        propagated_count = np.zeros((5, query_length)) \n",
    "\n",
    "        # Get propagated count for each word in the query\n",
    "        for word_index, query_term in enumerate(query['terms']):\n",
    "            # Find occurances of the query word in the document\n",
    "            if query_term in doc_words:\n",
    "                for j in doc_words[query_term]:\n",
    "                    propagated_count[0, word_index] += g_matrix[i,j]\n",
    "                    propagated_count[1, word_index] += circle_matrix[i,j]\n",
    "                    propagated_count[2, word_index] += passage_matrix[i,j]\n",
    "                    propagated_count[3, word_index] += cosine_matrix[i,j]\n",
    "                    propagated_count[4, word_index] += triangle_matrix[i,j]\n",
    "\n",
    "            # Finished going through document.\n",
    "            # Aply dirichlet prior smoothing\n",
    "            # i.e., now we have c'(w,i), compute the fraction\n",
    "            propagated_count[:, word_index] += mu * id2colprob[query_term]\n",
    "\n",
    "        # Apply normalization to all propagated counts.\n",
    "        # Divide by Z_i + mu\n",
    "        for c in range(5):\n",
    "            propagated_count[c,:] /= (doc_zcache[i][c] + mu) \n",
    "\n",
    "        # KL-DIV, a.k.a. the score S(Q,D,i) of the PLM \n",
    "        sqd = [0,0,0,0,0]\n",
    "        for s in range(5):\n",
    "            for plm_sc in propagated_count[s]:\n",
    "                sqd[s] += -qlm * math.log(qlm / plm_sc)\n",
    "\n",
    "        # Use biggest score method to get score of document\n",
    "        for sc in range(5):\n",
    "            if biggest_score[sc] < sqd[sc]:\n",
    "                biggest_score[sc] = sqd[sc]\n",
    "                \n",
    "    # Return all 5 scores\n",
    "    return biggest_score\n",
    "\n",
    "def rank_plm(ranked_docs, all_queries, mu=500, verbose=False):\n",
    "    \"\"\"\n",
    "    Given a set of scored queries (in the form of a dictionary),\n",
    "    reranks their documents, according to the PLM using all 5 kernels.\n",
    "    \"\"\"\n",
    "    scores = [defaultdict(list), defaultdict(list), defaultdict(list), defaultdict(list), defaultdict(list)]\n",
    "    counter = 0\n",
    "    for doc_id, doc_queries in ranked_docs.items():\n",
    "        counter += 1\n",
    "        if verbose and counter % 5000 == 0:\n",
    "            print(counter)\n",
    "        # Current document to get score for\n",
    "        curr_doc = index.document(doc_id)\n",
    "\n",
    "        # Disconsider documents with length < 400\n",
    "        if len(curr_doc[1]) < 400:\n",
    "            continue\n",
    "\n",
    "        # 5x speedup here.\n",
    "        # Store positions where words occur.\n",
    "        doc_words = pos_process_doc(curr_doc)\n",
    "\n",
    "        # Memoization of Zis\n",
    "        # Cache for normalization parameters.\n",
    "        doc_cache = {}\n",
    "\n",
    "        for query_id in doc_queries:\n",
    "            query_info = all_queries[query_id]\n",
    "\n",
    "            pair_scores = plm_score(document=curr_doc, doc_words=doc_words, doc_zcache=doc_cache, query=query_info, mu=mu, sigma=50)        \n",
    "\n",
    "            for sc in range(len(pair_scores)):\n",
    "                scores[sc][query_id].append((pair_scores[sc], curr_doc[0]))\n",
    "\n",
    "    for score in scores:\n",
    "        for query_id in score:\n",
    "            score[query_id] = heapq.nlargest(400, score[query_id], itemgetter(0))\n",
    "\n",
    "    return scores"
   ]
  },
  {
   "cell_type": "code",
   "execution_count": 37,
   "metadata": {
    "collapsed": false
   },
   "outputs": [
    {
     "name": "stdout",
     "output_type": "stream",
     "text": [
      "5000\n",
      "10000\n",
      "15000\n",
      "20000\n",
      "25000\n",
      "30000\n",
      "35000\n",
      "40000\n"
     ]
    }
   ],
   "source": [
    "mu_500_scores = rank_plm(ranked_docs=ranked_docs, all_queries=queries, mu=500, verbose=True)"
   ]
  },
  {
   "cell_type": "code",
   "execution_count": 38,
   "metadata": {
    "collapsed": true
   },
   "outputs": [],
   "source": [
    "mu500_file = 'mu_500_scores.p'\n",
    "with open(mu500_file, 'wb') as fp:\n",
    "    pickle.dump(mu_500_scores, fp)"
   ]
  },
  {
   "cell_type": "code",
   "execution_count": 39,
   "metadata": {
    "collapsed": false
   },
   "outputs": [],
   "source": [
    "# Scores for each kernel using mu=1000\n",
    "mu_1000_scores = rank_plm(ranked_docs=ranked_docs, all_queries=queries, mu=1000)"
   ]
  },
  {
   "cell_type": "code",
   "execution_count": 40,
   "metadata": {
    "collapsed": true
   },
   "outputs": [],
   "source": [
    "mu1000_file = 'mu_1000_scores.p'\n",
    "with open(mu1000_file, 'wb') as fp:\n",
    "    pickle.dump(mu_1000_scores, fp)"
   ]
  },
  {
   "cell_type": "code",
   "execution_count": null,
   "metadata": {
    "collapsed": false
   },
   "outputs": [],
   "source": [
    "# Scores for each kernel using mu=1000\n",
    "mu_1500_scores = rank_plm(ranked_docs=ranked_docs, all_queries=queries, mu=1500)"
   ]
  },
  {
   "cell_type": "code",
   "execution_count": null,
   "metadata": {
    "collapsed": true
   },
   "outputs": [],
   "source": [
    "mu1500_file = 'mu_1500_scores.p'\n",
    "with open(mu1500_file, 'wb') as fp:\n",
    "    pickle.dump(mu_1500_scores, fp)"
   ]
  },
  {
   "cell_type": "code",
   "execution_count": null,
   "metadata": {
    "collapsed": false
   },
   "outputs": [],
   "source": [
    "mu_2000_scores = rank_plm(ranked_docs=ranked_docs, all_queries=queries, mu=2000)"
   ]
  },
  {
   "cell_type": "code",
   "execution_count": null,
   "metadata": {
    "collapsed": true
   },
   "outputs": [],
   "source": [
    "mu2000_file = 'mu_2000_scores.p'\n",
    "with open(mu2000_file, 'wb') as fp:\n",
    "    pickle.dump(mu_2000_scores, fp)"
   ]
  },
  {
   "cell_type": "code",
   "execution_count": 249,
   "metadata": {
    "collapsed": false
   },
   "outputs": [
    {
     "name": "stdout",
     "output_type": "stream",
     "text": [
      "Results on validation set using mu=500 and kernel=gaussian are: \n",
      " {'recall_1000': 0.3543, 'P_5': 0.3667, 'ndcg_cut_10': 0.3521, 'map_cut_1000': 0.1415}\n",
      "Results on validation set using mu=500 and kernel=circle are: \n",
      " {'recall_1000': 0.3543, 'P_5': 0.3733, 'ndcg_cut_10': 0.3547, 'map_cut_1000': 0.1367}\n",
      "Results on validation set using mu=500 and kernel=passage are: \n",
      " {'recall_1000': 0.3543, 'P_5': 0.3533, 'ndcg_cut_10': 0.3488, 'map_cut_1000': 0.1388}\n",
      "Results on validation set using mu=500 and kernel=cosine are: \n",
      " {'recall_1000': 0.3543, 'P_5': 0.3667, 'ndcg_cut_10': 0.3488, 'map_cut_1000': 0.1396}\n",
      "Results on validation set using mu=500 and kernel=triangle are: \n",
      " {'recall_1000': 0.3543, 'P_5': 0.3667, 'ndcg_cut_10': 0.346, 'map_cut_1000': 0.1393}\n"
     ]
    }
   ],
   "source": [
    "# Determine best score calculated using Positiona Language Model\n",
    "prop_score = ['gaussian', 'circle', 'passage', 'cosine', 'triangle']\n",
    "\n",
    "# Scores for mu=500, using all 5 kernels.\n",
    "with open('mu_500_scores.p', 'rb') as fp:\n",
    "    mu_500 = pickle.load(fp)\n",
    "    \n",
    "for i, score in enumerate(mu_500):\n",
    "    print('Results on validation set using mu={0} and kernel={1} are: \\n {2}'.format(500, prop_score[i],trec_eval.evaluate(data=score)))"
   ]
  },
  {
   "cell_type": "code",
   "execution_count": 250,
   "metadata": {
    "collapsed": false
   },
   "outputs": [
    {
     "name": "stdout",
     "output_type": "stream",
     "text": [
      "Results on validation set using mu=1000 and kernel=gaussian are: \n",
      " {'recall_1000': 0.3543, 'P_5': 0.3667, 'ndcg_cut_10': 0.3529, 'map_cut_1000': 0.1422}\n",
      "Results on validation set using mu=1000 and kernel=circle are: \n",
      " {'recall_1000': 0.3543, 'P_5': 0.3533, 'ndcg_cut_10': 0.3453, 'map_cut_1000': 0.1423}\n",
      "Results on validation set using mu=1000 and kernel=passage are: \n",
      " {'recall_1000': 0.3543, 'P_5': 0.36, 'ndcg_cut_10': 0.3522, 'map_cut_1000': 0.1398}\n",
      "Results on validation set using mu=1000 and kernel=cosine are: \n",
      " {'recall_1000': 0.3543, 'P_5': 0.36, 'ndcg_cut_10': 0.3378, 'map_cut_1000': 0.134}\n",
      "Results on validation set using mu=1000 and kernel=triangle are: \n",
      " {'recall_1000': 0.3543, 'P_5': 0.3667, 'ndcg_cut_10': 0.3382, 'map_cut_1000': 0.1337}\n"
     ]
    }
   ],
   "source": [
    "# Scores for mu=1000, using all 5 kernels.\n",
    "with open('mu_1000_scores.p', 'rb') as fp:\n",
    "    mu_1000 = pickle.load(fp)\n",
    "    \n",
    "for i, score in enumerate(mu_1000):\n",
    "    print('Results on validation set using mu={0} and kernel={1} are: \\n {2}'.format(1000, prop_score[i],trec_eval.evaluate(data=score)))"
   ]
  },
  {
   "cell_type": "code",
   "execution_count": 251,
   "metadata": {
    "collapsed": false
   },
   "outputs": [
    {
     "name": "stdout",
     "output_type": "stream",
     "text": [
      "Results on validation set using mu=1500 and kernel=gaussian are: \n",
      " {'recall_1000': 0.3543, 'P_5': 0.36, 'ndcg_cut_10': 0.3544, 'map_cut_1000': 0.1415}\n",
      "Results on validation set using mu=1500 and kernel=circle are: \n",
      " {'recall_1000': 0.3543, 'P_5': 0.3533, 'ndcg_cut_10': 0.3472, 'map_cut_1000': 0.1427}\n",
      "Results on validation set using mu=1500 and kernel=passage are: \n",
      " {'recall_1000': 0.3543, 'P_5': 0.36, 'ndcg_cut_10': 0.3548, 'map_cut_1000': 0.1403}\n",
      "Results on validation set using mu=1500 and kernel=cosine are: \n",
      " {'recall_1000': 0.3543, 'P_5': 0.36, 'ndcg_cut_10': 0.3337, 'map_cut_1000': 0.1324}\n",
      "Results on validation set using mu=1500 and kernel=triangle are: \n",
      " {'recall_1000': 0.3543, 'P_5': 0.3667, 'ndcg_cut_10': 0.3391, 'map_cut_1000': 0.1345}\n"
     ]
    }
   ],
   "source": [
    "# Scores for mu=1500, using all 5 kernels.\n",
    "with open('mu_1500_scores.p', 'rb') as fp:\n",
    "    mu_1500 = pickle.load(fp)\n",
    "    \n",
    "for i, score in enumerate(mu_1500):\n",
    "    print('Results on validation set using mu={0} and kernel={1} are: \\n {2}'.format(1500, prop_score[i],trec_eval.evaluate(data=score)))"
   ]
  },
  {
   "cell_type": "code",
   "execution_count": 252,
   "metadata": {
    "collapsed": false
   },
   "outputs": [
    {
     "name": "stdout",
     "output_type": "stream",
     "text": [
      "Results on validation set using mu=2000 and kernel=gaussian are: \n",
      " {'recall_1000': 0.3543, 'P_5': 0.3467, 'ndcg_cut_10': 0.3529, 'map_cut_1000': 0.141}\n",
      "Results on validation set using mu=2000 and kernel=circle are: \n",
      " {'recall_1000': 0.3543, 'P_5': 0.3533, 'ndcg_cut_10': 0.3459, 'map_cut_1000': 0.1423}\n",
      "Results on validation set using mu=2000 and kernel=passage are: \n",
      " {'recall_1000': 0.3543, 'P_5': 0.3533, 'ndcg_cut_10': 0.3516, 'map_cut_1000': 0.1403}\n",
      "Results on validation set using mu=2000 and kernel=cosine are: \n",
      " {'recall_1000': 0.3543, 'P_5': 0.3533, 'ndcg_cut_10': 0.335, 'map_cut_1000': 0.1324}\n",
      "Results on validation set using mu=2000 and kernel=triangle are: \n",
      " {'recall_1000': 0.3543, 'P_5': 0.3667, 'ndcg_cut_10': 0.3365, 'map_cut_1000': 0.1346}\n"
     ]
    }
   ],
   "source": [
    "# Scores for mu=2000, using all 5 kernels.\n",
    "with open('mu_2000_scores.p', 'rb') as fp:\n",
    "    mu_2000 = pickle.load(fp)\n",
    "    \n",
    "for i, score in enumerate(mu_2000):\n",
    "    print('Results on validation set using mu={0} and kernel={1} are: \\n {2}'.format(2000, prop_score[i],trec_eval.evaluate(data=score)))"
   ]
  },
  {
   "cell_type": "code",
   "execution_count": 254,
   "metadata": {
    "collapsed": false
   },
   "outputs": [
    {
     "name": "stdout",
     "output_type": "stream",
     "text": [
      "Test set result of best plm is {'recall_1000': 0.3708, 'P_5': 0.3733, 'ndcg_cut_10': 0.3708, 'map_cut_1000': 0.137}\n"
     ]
    }
   ],
   "source": [
    "# Note: Keep in mind this is a reranking of the tfidf ranking.\n",
    "# There are no major differences in terms of the results between the mus/kernls.\n",
    "# By observatian the gaussian kernel seems to outperform the others slightly considering NDCG\n",
    "# So going forward we will use -> The score of the gaussian kernel, with mu=1000\n",
    "\n",
    "best_plm = mu_1000[0] # Gaussian kernel\n",
    "\n",
    "print('Test set result of best plm is {0}'.format(trec_eval_test.evaluate(data=best_plm)))"
   ]
  },
  {
   "cell_type": "markdown",
   "metadata": {},
   "source": [
    "#### Statistical significance testing"
   ]
  },
  {
   "cell_type": "code",
   "execution_count": 259,
   "metadata": {
    "collapsed": true
   },
   "outputs": [],
   "source": [
    "from scipy.stats import ttest_rel\n",
    "\n",
    "def process_model_results(results):\n",
    "    \"\"\"\n",
    "    Given trec eval complete results for all query document pairs.\n",
    "    Returns 4 arrays containing the respective measure values.\n",
    "    \"\"\"\n",
    "    ndcg_scores = []\n",
    "    recall_scores = []\n",
    "    p5_scores = []\n",
    "    map_scores = []\n",
    "\n",
    "    for query_id, query_scores in results.items():\n",
    "        if query_id == 'all':\n",
    "            continue\n",
    "        p5_scores.append(query_scores[0]['P_5'])\n",
    "        recall_scores.append(query_scores[1]['recall_1000'])\n",
    "        ndcg_scores.append(query_scores[2]['ndcg_cut_10'])\n",
    "        map_scores.append(query_scores[3]['map_cut_1000'])\n",
    "    \n",
    "    return p5_scores, recall_scores, ndcg_scores, map_scores\n",
    "        \n",
    "def compute_related_ttest(scoresA, scoresB):\n",
    "    \"\"\"\n",
    "    Computes two-tailed paired Student t-test, for all \n",
    "    pairs of scores given the 4 measures.\n",
    "    \n",
    "    Uses sidak correction\n",
    "    https://en.wikipedia.org/wiki/%C5%A0id%C3%A1k_correction\n",
    "    \"\"\"\n",
    "    measure_names = ['Precision@5', 'Recall@1000','NDCG@10','MAP@1000']\n",
    "    alpha = 0.05\n",
    "    comparisons = 4\n",
    "    alpha_sid = 1 - (1 - alpha)**0.25 # 1/4\n",
    "    \n",
    "    # Get results for both scores\n",
    "    resA = trec_eval_test.evaluate(data=scoresA, complete=True)\n",
    "    resB = trec_eval_test.evaluate(data=scoresB, complete=True)\n",
    "    \n",
    "    # Unpack results of all measures\n",
    "    all_scA = process_model_results(resA)\n",
    "    all_scB = process_model_results(resB)\n",
    "    \n",
    "    for i in range(comparisons):\n",
    "        t, p_value = ttest_rel(all_scA[i],all_scB[i])\n",
    "        if p_value < alpha_sid:\n",
    "            print('Null hypothesis of equal averages rejected for {0}'.format(measure_names[i]))\n",
    "        else:\n",
    "            print('Null hypothesis of equal averages accepted for {0}'.format(measure_names[i]))"
   ]
  },
  {
   "cell_type": "code",
   "execution_count": 260,
   "metadata": {
    "collapsed": false
   },
   "outputs": [
    {
     "name": "stdout",
     "output_type": "stream",
     "text": [
      "Ttest for comparisons between BM25 and TF-IDF\n",
      "Null hypothesis of equal averages rejected for Precision@5\n",
      "Null hypothesis of equal averages rejected for Recall@1000\n",
      "Null hypothesis of equal averages rejected for NDCG@10\n",
      "Null hypothesis of equal averages rejected for MAP@1000\n"
     ]
    }
   ],
   "source": [
    "### Perform some statistical significance tests\n",
    "print('Ttest for comparisons between BM25 and TF-IDF')\n",
    "with open(tf_file, 'rb') as fp:\n",
    "    tf = pickle.load(fp)\n",
    "    \n",
    "with open(bm25_file, 'rb') as fp:\n",
    "    bm25 = pickle.load(fp)\n",
    "    \n",
    "compute_related_ttest(tf, bm25)"
   ]
  },
  {
   "cell_type": "code",
   "execution_count": 262,
   "metadata": {
    "collapsed": false
   },
   "outputs": [
    {
     "name": "stdout",
     "output_type": "stream",
     "text": [
      "Comparison between Absolute Discounting and TF-IDF\n",
      "Null hypothesis of equal averages accepted for Precision@5\n",
      "Null hypothesis of equal averages accepted for Recall@1000\n",
      "Null hypothesis of equal averages rejected for NDCG@10\n",
      "Null hypothesis of equal averages rejected for MAP@1000\n",
      "Comparison between Dirichlet and TF-IDF\n",
      "Null hypothesis of equal averages rejected for Precision@5\n",
      "Null hypothesis of equal averages rejected for Recall@1000\n",
      "Null hypothesis of equal averages rejected for NDCG@10\n",
      "Null hypothesis of equal averages rejected for MAP@1000\n",
      "Comparison between  Jelinek and TF-IDF\n",
      "Null hypothesis of equal averages accepted for Precision@5\n",
      "Null hypothesis of equal averages rejected for Recall@1000\n",
      "Null hypothesis of equal averages rejected for NDCG@10\n",
      "Null hypothesis of equal averages rejected for MAP@1000\n",
      "Comparison between PLM Reranking of TF-IDF and TF-IDF\n",
      "Null hypothesis of equal averages accepted for Precision@5\n",
      "Null hypothesis of equal averages rejected for Recall@1000\n",
      "Null hypothesis of equal averages accepted for NDCG@10\n",
      "Null hypothesis of equal averages rejected for MAP@1000\n"
     ]
    }
   ],
   "source": [
    "## Compare TF-IDF and best Jalinek, Dirichlet, ABS.DISC, PLM\n",
    "abs_disc = best_absdisc_score[0]\n",
    "dirichlet = best_dirichlet_score[0]\n",
    "jalinek = best_jelinek_score[0]\n",
    "\n",
    "print('Comparison between Absolute Discounting and TF-IDF\\n')\n",
    "compute_related_ttest(tf, abs_disc)\n",
    "\n",
    "print('Comparison between Dirichlet and TF-IDF\\n')\n",
    "compute_related_ttest(tf, dirichlet)\n",
    "\n",
    "print('Comparison between  Jelinek and TF-IDF\\n')\n",
    "compute_related_ttest(tf, jalinek)\n",
    "\n",
    "print('Comparison between PLM Reranking of TF-IDF and TF-IDF')\n",
    "compute_related_ttest(tf, best_plm)"
   ]
  },
  {
   "cell_type": "markdown",
   "metadata": {},
   "source": [
    "### Task 2: Latent Semantic Models (LSMs) [25 points + 10 bonus points] ###\n",
    "\n",
    "In this task you will experiment with applying a distributional semantics methods ([word2vec](http://arxiv.org/abs/1411.2738)  **[5 points]**, [LSI](http://lsa3.colorado.edu/papers/JASIS.lsi.90.pdf) **[5 points]**, [LDA](https://www.cs.princeton.edu/~blei/papers/BleiNgJordan2003.pdf) **[5 points]** and [doc2vec](https://cs.stanford.edu/~quocle/paragraph_vector.pdf) **[5 points]**) for retrieval.\n",
    "\n",
    "You do not need to implement word2vec, LSI, LDA and doc2vec on your own. Instead, you can use [gensim](http://radimrehurek.com/gensim/index.html) (pre-loaded on the VirtualBox). An example on how to integrate Pyndri with Gensim for word2vec can be found [here](https://github.com/cvangysel/pyndri/blob/master/examples/word2vec.py). For the remaining latent vector space models, you will need to implement connector classes (such as `IndriSentences`) by yourself.\n",
    "\n",
    "In order to use a latent semantic model for retrieval, you need to:\n",
    "   * build a representation of the query **q**,\n",
    "   * build a representation of the document **d**,\n",
    "   * calculate the similarity between **q** and **d** (e.g., cosine similarity, KL-divergence).\n",
    "     \n",
    "The exact implementation here depends on the latent semantic model you are using. For example, in the case of word2vec, you only have vectors for individual words and not for documents or phrases. Try one of the following methods for producing these representations:\n",
    "   * Average or sum the word vectors.\n",
    "   * Cluster words in the document using [k-means](http://scikit-learn.org/stable/modules/generated/sklearn.cluster.KMeans.html) and use the centroid of the most important cluster. Experiment with different values of K for k-means.\n",
    "   * Using the [bag-of-word-embeddings representation](https://ciir-publications.cs.umass.edu/pub/web/getpdf.php?id=1248). **[10 bonus points]**\n",
    "   \n",
    "Each of these LSMs come with various hyperparameters to tune. Make a choice on the parameters, and explicitly mention the reasons that led you to these decisions. You can use the validation set to optimize hyper parameters you see fit; motivate your decisions. In addition, mention clearly how the query/document representations were constructed for each LSM and explain your choices.\n",
    "\n",
    "In this experiment, you will first obtain an initial top-1000 ranking for each query using TF-IDF in **Task 1**, and then re-rank the documents using the LSMs. Use TREC Eval to obtain the results and report on `NDCG@10`, Mean Average Precision (`MAP@1000`), `Precision@5` and `Recall@1000`.\n",
    "\n",
    "Perform significance testing **[5 points]** (similar as in Task 1) in the class of semantic matching methods."
   ]
  },
  {
   "cell_type": "code",
   "execution_count": 144,
   "metadata": {
    "collapsed": false
   },
   "outputs": [],
   "source": [
    "# File names and constants\n",
    "# File to save word2vec model\n",
    "from gensim import models\n",
    "\n",
    "DIM_LSI = 64\n",
    "DIM_LDA = 32\n",
    "DIM_HIDDEN = 32\n",
    "\n",
    "word2vec_file = 'word2vec_model.bin'\n",
    "doc2vec_file = 'doc2vec_model.doc2vec'\n",
    "\n",
    "corpus_file = 'pyndri_corpus.mm'\n",
    "dict_file='corpdict.dict'\n",
    "\n",
    "\n",
    "tfidf_model_file = 'tfidf_model.model'\n",
    "lsi_model_file = 'lsi_model.model'\n",
    "tfidf_corpora_file = 'tfidf_corpora.mm'\n",
    "lsi_corpora_file = 'lsi_corpora.mm'\n",
    "\n",
    "lda_model_file = 'lda_model.model'\n",
    "lda_corpora_file = 'lda_corpora.mm'\n",
    "\n",
    "import multiprocessing\n",
    "\n",
    "available_cores = multiprocessing.cpu_count()\n"
   ]
  },
  {
   "cell_type": "markdown",
   "metadata": {},
   "source": [
    "#### Word2Vec"
   ]
  },
  {
   "cell_type": "code",
   "execution_count": 22,
   "metadata": {
    "collapsed": false,
    "scrolled": true
   },
   "outputs": [
    {
     "name": "stderr",
     "output_type": "stream",
     "text": [
      "INFO:root:Initializing word2vec.\n",
      "INFO:gensim.models.word2vec:loading projection weights from word2vec_model.bin\n",
      "INFO:gensim.models.word2vec:loaded (102844, 32) matrix from word2vec_model.bin\n"
     ]
    }
   ],
   "source": [
    "logging.info('Initializing word2vec.')\n",
    "\n",
    "# Get dictionary and sentences\n",
    "dictionary = pyndri.extract_dictionary(index)\n",
    "sentences = pyndri.compat.IndriSentences(index, dictionary)\n",
    "\n",
    "if not os.path.isfile(word2vec_file):\n",
    "    # Build model, train for default 5 iterations.\n",
    "    # Use size of 32 for hidden layer for speed.\n",
    "    model = gensim.models.Word2Vec(sentences, \n",
    "                                   size=DIM_HIDDEN, \n",
    "                                   window=5, \n",
    "                                   min_count=5, \n",
    "                                   workers=available_cores, # Set maximum cores.\n",
    "                                   sample=1e-3, \n",
    "                                   negative=5, \n",
    "                                   sg=True)\n",
    "    model.save_word2vec_format(word2vec_file, binary=True)\n",
    "else:\n",
    "    # Model already trained, load it.\n",
    "    word2vec_model = gensim.models.Word2Vec.load_word2vec_format(word2vec_file, binary=True)"
   ]
  },
  {
   "cell_type": "markdown",
   "metadata": {},
   "source": [
    "#### Doc2Vec"
   ]
  },
  {
   "cell_type": "code",
   "execution_count": 93,
   "metadata": {
    "collapsed": false
   },
   "outputs": [
    {
     "name": "stderr",
     "output_type": "stream",
     "text": [
      "INFO:gensim.utils:loading Doc2Vec object from doc2vec_model.doc2vec\n",
      "INFO:gensim.utils:loading docvecs recursively from doc2vec_model.doc2vec.docvecs.* with mmap=None\n",
      "INFO:gensim.utils:loading wv recursively from doc2vec_model.doc2vec.wv.* with mmap=None\n",
      "INFO:gensim.utils:setting ignored attribute syn0norm to None\n",
      "INFO:gensim.utils:setting ignored attribute cum_table to None\n",
      "INFO:gensim.utils:loaded doc2vec_model.doc2vec\n"
     ]
    }
   ],
   "source": [
    "if not os.path.isfile(doc2vec_file):\n",
    "    from collections import namedtuple\n",
    "    # Get dictionary and sentences\n",
    "    dictionary = pyndri.extract_dictionary(index)\n",
    "    sentences = pyndri.compat.IndriSentences(index, dictionary)\n",
    "\n",
    "    # Process data for doc2vec model\n",
    "    # Don't really need a 'connector class' here.\n",
    "    doc_model = namedtuple('document', 'words tags')\n",
    "\n",
    "    docs = []\n",
    "    curr_doc = 0\n",
    "    for sent in sentences:\n",
    "        curr_doc += 1\n",
    "        tags = [curr_doc]\n",
    "        docs.append(doc_model(list(sent), tags))\n",
    "        \n",
    "    # Train model\n",
    "    assert gensim.models.doc2vec.FAST_VERSION \n",
    "    model = gensim.models.Doc2Vec(docs, \n",
    "                                  size=DIM_HIDDEN, \n",
    "                                  window=5, \n",
    "                                  min_count=5, \n",
    "                                  workers=available_cores)\n",
    "    model.save(doc2vec_file)\n",
    "else:\n",
    "    doc2vec_model = models.Doc2Vec.load(doc2vec_file)"
   ]
  },
  {
   "cell_type": "markdown",
   "metadata": {},
   "source": [
    "#### LSI\n",
    "\n",
    "Note: https://github.com/RaRe-Technologies/gensim/commit/e4114336591e2dcd311260b7b221e2427335417a#diff-67d50c48e7c1e120919ef6faf7097311"
   ]
  },
  {
   "cell_type": "code",
   "execution_count": 100,
   "metadata": {
    "collapsed": false
   },
   "outputs": [
    {
     "name": "stderr",
     "output_type": "stream",
     "text": [
      "INFO:gensim.utils:loading Dictionary object from corpdict.dict\n",
      "INFO:gensim.utils:loaded corpdict.dict\n",
      "INFO:gensim.corpora.indexedcorpus:loaded corpus index from pyndri_corpus.mm.index\n",
      "INFO:gensim.matutils:initializing corpus reader from pyndri_corpus.mm\n",
      "INFO:gensim.matutils:accepted corpus with 164597 documents, 85926 features, 29285443 non-zero entries\n",
      "INFO:gensim.corpora.indexedcorpus:loaded corpus index from tfidf_corpora.mm.index\n",
      "INFO:gensim.matutils:initializing corpus reader from tfidf_corpora.mm\n",
      "INFO:gensim.matutils:accepted corpus with 164597 documents, 85926 features, 29285443 non-zero entries\n",
      "INFO:gensim.corpora.indexedcorpus:loaded corpus index from lsi_corpora.mm.index\n",
      "INFO:gensim.matutils:initializing corpus reader from lsi_corpora.mm\n",
      "INFO:gensim.matutils:accepted corpus with 164597 documents, 64 features, 10533504 non-zero entries\n",
      "INFO:gensim.utils:loading TfidfModel object from tfidf_model.model\n",
      "INFO:gensim.utils:loading id2word recursively from tfidf_model.model.id2word.* with mmap=None\n",
      "INFO:gensim.utils:loaded tfidf_model.model\n",
      "INFO:gensim.utils:loading LsiModel object from lsi_model.model\n",
      "INFO:gensim.utils:loading id2word recursively from lsi_model.model.id2word.* with mmap=None\n",
      "INFO:gensim.utils:setting ignored attribute projection to None\n",
      "INFO:gensim.utils:setting ignored attribute dispatcher to None\n",
      "INFO:gensim.utils:loaded lsi_model.model\n",
      "INFO:gensim.utils:loading LsiModel object from lsi_model.model.projection\n",
      "INFO:gensim.utils:loaded lsi_model.model.projection\n"
     ]
    }
   ],
   "source": [
    "from gensim import corpora\n",
    "from gensim.models import lsimodel \n",
    "from gensim.models import tfidfmodel\n",
    "\n",
    "# Use indrisentences \n",
    "def get_pyndri_sentences(index):\n",
    "    # Get iterator to pyndri sentences\n",
    "    pyindri_dict = pyndri.extract_dictionary(index)\n",
    "    docs = pyndri.compat.IndriSentences(index, dictionary)\n",
    "    return docs\n",
    "\n",
    "# 'Connect' class.\n",
    "class PyndriCorpus(object):\n",
    "    \n",
    "    def __init__(self, index):\n",
    "        self.index = index\n",
    "        \n",
    "        # Construct and filter corpora dictionary\n",
    "        self.dictionary = corpora.Dictionary(get_pyndri_sentences(index))\n",
    "        self.dictionary.filter_extremes(no_below=5)\n",
    "    \n",
    "    def __iter__(self):\n",
    "        for doc in get_pyndri_sentences(index):\n",
    "            yield self.dictionary.doc2bow(doc)\n",
    "\n",
    "    def save_dict(self):\n",
    "        self.dictionary.save(dict_file)\n",
    "        \n",
    "if not os.path.isfile(corpus_file):\n",
    "    # Construct and serialize the corpus\n",
    "    corpus = PyndriCorpus(index)\n",
    "    corpora.MmCorpus.serialize(corpus_file, corpus)\n",
    "    corpus.save_dict()\n",
    "else:  \n",
    "    # Load corpus from disk\n",
    "    dictionary = corpora.Dictionary.load(dict_file)\n",
    "    corpus = corpora.MmCorpus(corpus_file)\n",
    "    \n",
    "if not os.path.isfile(lsi_model_file) or not os.path.isfile(tfidf_model_file):\n",
    "    # first, transform word counts to tf-idf weights\n",
    "    tfidf_model = tfidfmodel.TfidfModel(corpus, id2word = dictionary, normalize = True)\n",
    "\n",
    "    # then find the transformation from tf-idf to latent space\n",
    "    lsi_model = lsimodel.LsiModel(tfidf_model[corpus], id2word = dictionary, num_topics = DIM_LSI)\n",
    "    \n",
    "    # Transformed_corpora\n",
    "    tfidf_corpora = tfidf_model[corpus]\n",
    "    lsi_corpora = lsi_model[tfidf_model[corpus]]\n",
    "    \n",
    "    # Cache the transformed corpora to disk\n",
    "    corpora.MmCorpus.serialize(tfidf_corpora_file, tfidf_corpora)\n",
    "    corpora.MmCorpus.serialize(lsi_corpora_file, lsi_corpora)\n",
    "\n",
    "    # Cache the models to disk\n",
    "    tfidf_model.save(tfidf_model_file)\n",
    "    lsi_model.save(lsi_model_file)\n",
    "else:\n",
    "    # Load corpora and models\n",
    "    tfidf_corpora = gensim.corpora.MmCorpus(tfidf_corpora_file)\n",
    "    lsi_corpora = gensim.corpora.MmCorpus(lsi_corpora_file)\n",
    "\n",
    "    tfidf_model = gensim.models.TfidfModel.load(tfidf_model_file)\n",
    "    lsi_model = gensim.models.LsiModel.load(lsi_model_file)"
   ]
  },
  {
   "cell_type": "markdown",
   "metadata": {},
   "source": [
    "#### LDA"
   ]
  },
  {
   "cell_type": "code",
   "execution_count": 143,
   "metadata": {
    "collapsed": false,
    "scrolled": true
   },
   "outputs": [
    {
     "name": "stderr",
     "output_type": "stream",
     "text": [
      "INFO:gensim.utils:loading Dictionary object from corpdict.dict\n",
      "INFO:gensim.utils:loaded corpdict.dict\n",
      "INFO:gensim.corpora.indexedcorpus:loaded corpus index from pyndri_corpus.mm.index\n",
      "INFO:gensim.matutils:initializing corpus reader from pyndri_corpus.mm\n",
      "INFO:gensim.matutils:accepted corpus with 164597 documents, 85926 features, 29285443 non-zero entries\n",
      "INFO:gensim.utils:loading LdaMulticore object from lda_model.model\n",
      "INFO:gensim.utils:loading expElogbeta from lda_model.model.expElogbeta.npy with mmap=None\n",
      "INFO:gensim.utils:setting ignored attribute id2word to None\n",
      "INFO:gensim.utils:setting ignored attribute state to None\n",
      "INFO:gensim.utils:setting ignored attribute dispatcher to None\n",
      "INFO:gensim.utils:loaded lda_model.model\n",
      "INFO:gensim.utils:loading LdaMulticore object from lda_model.model.state\n",
      "INFO:gensim.utils:loaded lda_model.model.state\n"
     ]
    }
   ],
   "source": [
    "from gensim.models.ldamulticore import LdaMulticore\n",
    "\n",
    "if not os.path.isfile(corpus_file):\n",
    "    # Construct and serialize the corpus\n",
    "    corpus = PyndriCorpus(index)\n",
    "    corpora.MmCorpus.serialize(corpus_file, corpus)\n",
    "    corpus.save_dict()\n",
    "    dictionary = corpus.dictionary\n",
    "else:\n",
    "    # Load corpus from disk\n",
    "    dictionary = corpora.Dictionary.load(dict_file)\n",
    "    corpus = corpora.MmCorpus(corpus_file)\n",
    "    \n",
    "if not os.path.isfile(lda_model_file):\n",
    "    # Multicore implementation of LDA\n",
    "    lda_model = LdaMulticore(corpus, num_topics=DIM_LDA, id2word=dictionary, workers=available_cores, passes=2)\n",
    "    lda_model.save(lda_model_file)\n",
    "    \n",
    "    lda_corpora = lda_model[corpus]\n",
    "    # Cache the transformed corpora to disk\n",
    "    corpora.MmCorpus.serialize(lda_corpora_file, lda_corpora)\n",
    "else:\n",
    "    lda_model = LdaMulticore.load(lda_model_file)\n",
    "    lsi_corpora = gensim.corpora.MmCorpus(lda_corpora_file)\n",
    "    "
   ]
  },
  {
   "cell_type": "markdown",
   "metadata": {},
   "source": [
    "#### Model evaluations\n",
    "\n",
    "- We use the representations constructed by the latent semantic models, to rerank the top 1k documents from the tf_idf scoring in Task 1"
   ]
  },
  {
   "cell_type": "code",
   "execution_count": 87,
   "metadata": {
    "collapsed": true
   },
   "outputs": [],
   "source": [
    "# Transform each query and each unique document in a representation.\n",
    "from sklearn.metrics.pairwise import cosine_similarity as cos_sim\n",
    "from sklearn.metrics.cluster import mutual_info_score as kl_div\n",
    "from scipy.spatial.distance import cdist\n",
    "\n",
    "# First fetch tf_idf results.\n",
    "tfidf_queries = load_tfidf_res(top_k=1000, get_docs=False)\n",
    "raw_queries = preprocess_queries(raw_terms=True)"
   ]
  },
  {
   "cell_type": "markdown",
   "metadata": {},
   "source": [
    "#### Word2Vec evaluation"
   ]
  },
  {
   "cell_type": "code",
   "execution_count": 130,
   "metadata": {
    "collapsed": false
   },
   "outputs": [],
   "source": [
    "def word2vec_score(ranked_queries, all_queries, word2vec_model):\n",
    "    \"\"\"\n",
    "    Given a mapping from query_id -> list of top documents \n",
    "    return from another retrieval algorithm, reranks the documents\n",
    "    using the word2vec embedding representation and cosine similarity.\n",
    "    \"\"\"\n",
    "    scores = defaultdict(list)\n",
    "    for query_id, top_docs in ranked_queries.items():\n",
    "        # Construct query representation\n",
    "        query_repr = np.mean(word2vec_model[raw_queries[query_id]['raw_terms']], axis=0)\n",
    "        \n",
    "        # For each document\n",
    "        for doc_id in ranked_queries[query_id]:\n",
    "            # Get document and words\n",
    "            current_doc = index.document(doc_id)\n",
    "            doc_words = [id2token[token_id] for token_id in current_doc[1] if token_id > 0 and \n",
    "                         id2colfreq[token_id] > 5 and token_id in id2token]\n",
    "            \n",
    "            # Construct document representation\n",
    "            doc_repr = np.mean(word2vec_model[doc_words], axis=0)\n",
    "            \n",
    "            # Compute similarity score.\n",
    "            sim = cos_sim(np.reshape(query_repr, (1, -1)), np.reshape(doc_repr, (1, -1))) \n",
    "            \n",
    "            # Store similarity\n",
    "            scores[query_id].append((sim.item(), current_doc[0]))\n",
    "    \n",
    "    for query_id in scores:\n",
    "            scores[query_id] = heapq.nlargest(1000, scores[query_id], itemgetter(0))\n",
    "    \n",
    "    return scores"
   ]
  },
  {
   "cell_type": "code",
   "execution_count": 131,
   "metadata": {
    "collapsed": false
   },
   "outputs": [],
   "source": [
    "word2vec_rerankings = word2vec_score(ranked_queries=tfidf_queries, all_queries=raw_queries, word2vec_model=word2vec_model)"
   ]
  },
  {
   "cell_type": "code",
   "execution_count": 132,
   "metadata": {
    "collapsed": true
   },
   "outputs": [],
   "source": [
    "word2vec_scores_file = 'w2vec_scores.p'\n",
    "with open(word2vec_scores_file, 'wb') as fp:\n",
    "    pickle.dump(word2vec_rerankings, fp)"
   ]
  },
  {
   "cell_type": "code",
   "execution_count": 255,
   "metadata": {
    "collapsed": false
   },
   "outputs": [
    {
     "name": "stdout",
     "output_type": "stream",
     "text": [
      "Result of TF-IDF reranking using word2vec is {'recall_1000': 0.6089, 'P_5': 0.3083, 'ndcg_cut_10': 0.3113, 'map_cut_1000': 0.1601}\n"
     ]
    }
   ],
   "source": [
    "## Use on test set\n",
    "print('Result of TF-IDF reranking using word2vec is {0}'.format(trec_eval_test.evaluate(word2vec_rerankings)))"
   ]
  },
  {
   "cell_type": "markdown",
   "metadata": {},
   "source": [
    "### Doc2Vec evaluation"
   ]
  },
  {
   "cell_type": "code",
   "execution_count": 134,
   "metadata": {
    "collapsed": false
   },
   "outputs": [],
   "source": [
    "def doc2vec_score(ranked_queries, all_queries, doc2vec_model):\n",
    "    \"\"\"\n",
    "    Given a mapping from query_id -> list of top documents \n",
    "    return from another retrieval algorithm, reranks the documents\n",
    "    using the doc2vec embedding representation and cosine similarity.\n",
    "    \"\"\"\n",
    "    scores = defaultdict(list)\n",
    "    for query_id, top_docs in ranked_queries.items():\n",
    "        # Construct query representation\n",
    "        query_repr = np.mean(word2vec_model[raw_queries[query_id]['raw_terms']], axis=0)\n",
    "        \n",
    "        # For each document\n",
    "        for doc_id in ranked_queries[query_id]:\n",
    "            current_doc = index.document(doc_id)\n",
    "            \n",
    "            # Construct document representation\n",
    "            doc_repr = doc2vec_model.docvecs[doc_id]\n",
    "            \n",
    "            # Compute similarity score.\n",
    "            sim = cos_sim(np.reshape(query_repr, (1, -1)), np.reshape(doc_repr, (1, -1))) \n",
    "            \n",
    "            # Store similarity\n",
    "            scores[query_id].append((sim.item(), current_doc[0]))\n",
    "            \n",
    "    for query_id in scores:\n",
    "            scores[query_id] = heapq.nlargest(1000, scores[query_id], itemgetter(0))\n",
    "            \n",
    "    return scores"
   ]
  },
  {
   "cell_type": "code",
   "execution_count": 135,
   "metadata": {
    "collapsed": false
   },
   "outputs": [],
   "source": [
    "doc2vec_rerankings = doc2vec_score(ranked_queries=tfidf_queries, all_queries=raw_queries, doc2vec_model=doc2vec_model)"
   ]
  },
  {
   "cell_type": "code",
   "execution_count": 136,
   "metadata": {
    "collapsed": true
   },
   "outputs": [],
   "source": [
    "doc2vec_scores_file = 'd2vec_scores.p'\n",
    "with open(doc2vec_scores_file, 'wb') as fp:\n",
    "    pickle.dump(doc2vec_rerankings, fp)"
   ]
  },
  {
   "cell_type": "code",
   "execution_count": 256,
   "metadata": {
    "collapsed": false
   },
   "outputs": [
    {
     "name": "stdout",
     "output_type": "stream",
     "text": [
      "Result of TF-IDF reranking using doc2vec is {'recall_1000': 0.6089, 'P_5': 0.11, 'ndcg_cut_10': 0.1042, 'map_cut_1000': 0.0741}\n"
     ]
    }
   ],
   "source": [
    "## Use on test set\n",
    "print('Result of TF-IDF reranking using doc2vec is {0}'.format(trec_eval_test.evaluate(doc2vec_rerankings)))"
   ]
  },
  {
   "cell_type": "markdown",
   "metadata": {},
   "source": [
    "### LSI Evaluation"
   ]
  },
  {
   "cell_type": "code",
   "execution_count": 137,
   "metadata": {
    "collapsed": false,
    "scrolled": true
   },
   "outputs": [
    {
     "name": "stderr",
     "output_type": "stream",
     "text": [
      "INFO:gensim.utils:loading Similarity object from sim_index.index\n",
      "INFO:gensim.utils:loaded sim_index.index\n"
     ]
    }
   ],
   "source": [
    "## Remember to load models and corpus from previous cell.\n",
    "from gensim.similarities import MatrixSimilarity, SparseMatrixSimilarity, Similarity\n",
    "\n",
    "similarity_index_loc = 'sim_index'\n",
    "similarity_index_file = 'sim_index.index'\n",
    "\n",
    "if not os.path.isfile(similarity_index_file):\n",
    "    # Construct similarity index\n",
    "    similarity_index = Similarity(similarity_index_loc, lsi_corpora, DIM_LSI)\n",
    "    similarity_index.save(similarity_index_file)\n",
    "else:\n",
    "    similarity_index = Similarity.load(similarity_index_file)"
   ]
  },
  {
   "cell_type": "code",
   "execution_count": 138,
   "metadata": {
    "collapsed": false
   },
   "outputs": [],
   "source": [
    "def lsi_score(ranked_queries, all_queries, similarity_index):\n",
    "    \"\"\"\n",
    "    Using latent semantic indexing transform each query into its representation and\n",
    "    compute the cosine similarity between the query and its top 1000 docs.\n",
    "    \"\"\"\n",
    "    scores = defaultdict(list)\n",
    "    \n",
    "    # Set similarity index to return scores for all docs.\n",
    "    similarity_index.num_best = None\n",
    "    \n",
    "    for query_id, top_docs in ranked_queries.items():\n",
    "        query_bow = dictionary.doc2bow(query_terms)\n",
    "        query_lsi = lsi_model[tfidf_model[query_bow]]\n",
    "        \n",
    "        # Get similarity score for this query for all docuemnts\n",
    "        sims = similarity_index[query_lsi]\n",
    "        \n",
    "        # Only store the score of the documents that were iniatially ranked using tfidf.\n",
    "        for doc_id in top_docs:\n",
    "            document = index.document(doc_id)\n",
    "            \n",
    "            # Store score, account for document id - LSI id mismatch\n",
    "            scores[query_id].append((sims[doc_id-1], document[0]))\n",
    "            \n",
    "    for query_id in scores:\n",
    "            scores[query_id] = heapq.nlargest(1000, scores[query_id], itemgetter(0))\n",
    "    \n",
    "    return scores"
   ]
  },
  {
   "cell_type": "code",
   "execution_count": 139,
   "metadata": {
    "collapsed": false
   },
   "outputs": [
    {
     "name": "stderr",
     "output_type": "stream",
     "text": [
      "INFO:gensim.utils:loading MatrixSimilarity object from sim_index.0\n",
      "INFO:gensim.utils:loaded sim_index.0\n",
      "INFO:gensim.utils:loading MatrixSimilarity object from sim_index.1\n",
      "INFO:gensim.utils:loaded sim_index.1\n",
      "INFO:gensim.utils:loading MatrixSimilarity object from sim_index.2\n",
      "INFO:gensim.utils:loaded sim_index.2\n",
      "INFO:gensim.utils:loading MatrixSimilarity object from sim_index.3\n",
      "INFO:gensim.utils:loaded sim_index.3\n",
      "INFO:gensim.utils:loading MatrixSimilarity object from sim_index.4\n",
      "INFO:gensim.utils:loaded sim_index.4\n",
      "INFO:gensim.utils:loading MatrixSimilarity object from sim_index.5\n",
      "INFO:gensim.utils:loaded sim_index.5\n"
     ]
    }
   ],
   "source": [
    "lsi_reranking_score = lsi_score(ranked_queries=tfidf_queries, all_queries=raw_queries, similarity_index=similarity_index)"
   ]
  },
  {
   "cell_type": "code",
   "execution_count": 141,
   "metadata": {
    "collapsed": false
   },
   "outputs": [],
   "source": [
    "lsi_scores_file = 'lsi_scores.p'\n",
    "with open(lsi_scores_file, 'wb') as fp:\n",
    "    pickle.dump(lsi_reranking_score, fp)"
   ]
  },
  {
   "cell_type": "code",
   "execution_count": 257,
   "metadata": {
    "collapsed": false
   },
   "outputs": [
    {
     "name": "stdout",
     "output_type": "stream",
     "text": [
      "Result of TF-IDF reranking using LSI is {'recall_1000': 0.6089, 'P_5': 0.0133, 'ndcg_cut_10': 0.0159, 'map_cut_1000': 0.0485}\n"
     ]
    }
   ],
   "source": [
    "## Use on test set\n",
    "print('Result of TF-IDF reranking using LSI is {0}'.format(trec_eval_test.evaluate(lsi_reranking_score)))"
   ]
  },
  {
   "cell_type": "markdown",
   "metadata": {},
   "source": [
    "#### LDA Model"
   ]
  },
  {
   "cell_type": "code",
   "execution_count": 148,
   "metadata": {
    "collapsed": false,
    "scrolled": true
   },
   "outputs": [
    {
     "name": "stderr",
     "output_type": "stream",
     "text": [
      "INFO:gensim.similarities.docsim:starting similarity index under lda_sim_index\n",
      "INFO:gensim.similarities.docsim:PROGRESS: fresh_shard size=10000\n",
      "INFO:gensim.similarities.docsim:PROGRESS: fresh_shard size=20000\n",
      "INFO:gensim.similarities.docsim:PROGRESS: fresh_shard size=30000\n",
      "INFO:gensim.similarities.docsim:creating sparse index\n",
      "INFO:gensim.matutils:creating sparse matrix from corpus\n",
      "INFO:gensim.matutils:PROGRESS: at document #0/32768\n",
      "INFO:gensim.matutils:PROGRESS: at document #10000/32768\n",
      "INFO:gensim.matutils:PROGRESS: at document #20000/32768\n",
      "INFO:gensim.matutils:PROGRESS: at document #30000/32768\n",
      "INFO:gensim.similarities.docsim:created <32768x32 sparse matrix of type '<class 'numpy.float32'>'\n",
      "\twith 111082 stored elements in Compressed Sparse Row format>\n",
      "INFO:gensim.similarities.docsim:creating sparse shard #0\n",
      "INFO:gensim.similarities.docsim:saving index shard to lda_sim_index.0\n",
      "INFO:gensim.utils:saving SparseMatrixSimilarity object under lda_sim_index.0, separately None\n",
      "INFO:gensim.utils:saved lda_sim_index.0\n",
      "INFO:gensim.utils:loading SparseMatrixSimilarity object from lda_sim_index.0\n",
      "INFO:gensim.utils:loaded lda_sim_index.0\n",
      "INFO:gensim.similarities.docsim:PROGRESS: fresh_shard size=0\n",
      "INFO:gensim.similarities.docsim:PROGRESS: fresh_shard size=10000\n",
      "INFO:gensim.similarities.docsim:PROGRESS: fresh_shard size=20000\n",
      "INFO:gensim.similarities.docsim:PROGRESS: fresh_shard size=30000\n",
      "INFO:gensim.similarities.docsim:creating sparse index\n",
      "INFO:gensim.matutils:creating sparse matrix from corpus\n",
      "INFO:gensim.matutils:PROGRESS: at document #0/32768\n",
      "INFO:gensim.matutils:PROGRESS: at document #10000/32768\n",
      "INFO:gensim.matutils:PROGRESS: at document #20000/32768\n",
      "INFO:gensim.matutils:PROGRESS: at document #30000/32768\n",
      "INFO:gensim.similarities.docsim:created <32768x32 sparse matrix of type '<class 'numpy.float32'>'\n",
      "\twith 112878 stored elements in Compressed Sparse Row format>\n",
      "INFO:gensim.similarities.docsim:creating sparse shard #1\n",
      "INFO:gensim.similarities.docsim:saving index shard to lda_sim_index.1\n",
      "INFO:gensim.utils:saving SparseMatrixSimilarity object under lda_sim_index.1, separately None\n",
      "INFO:gensim.utils:saved lda_sim_index.1\n",
      "INFO:gensim.utils:loading SparseMatrixSimilarity object from lda_sim_index.1\n",
      "INFO:gensim.utils:loaded lda_sim_index.1\n",
      "INFO:gensim.similarities.docsim:PROGRESS: fresh_shard size=0\n",
      "INFO:gensim.similarities.docsim:PROGRESS: fresh_shard size=10000\n",
      "INFO:gensim.similarities.docsim:PROGRESS: fresh_shard size=20000\n",
      "INFO:gensim.similarities.docsim:PROGRESS: fresh_shard size=30000\n",
      "INFO:gensim.similarities.docsim:creating sparse index\n",
      "INFO:gensim.matutils:creating sparse matrix from corpus\n",
      "INFO:gensim.matutils:PROGRESS: at document #0/32768\n",
      "INFO:gensim.matutils:PROGRESS: at document #10000/32768\n",
      "INFO:gensim.matutils:PROGRESS: at document #20000/32768\n",
      "INFO:gensim.matutils:PROGRESS: at document #30000/32768\n",
      "INFO:gensim.similarities.docsim:created <32768x32 sparse matrix of type '<class 'numpy.float32'>'\n",
      "\twith 113681 stored elements in Compressed Sparse Row format>\n",
      "INFO:gensim.similarities.docsim:creating sparse shard #2\n",
      "INFO:gensim.similarities.docsim:saving index shard to lda_sim_index.2\n",
      "INFO:gensim.utils:saving SparseMatrixSimilarity object under lda_sim_index.2, separately None\n",
      "INFO:gensim.utils:saved lda_sim_index.2\n",
      "INFO:gensim.utils:loading SparseMatrixSimilarity object from lda_sim_index.2\n",
      "INFO:gensim.utils:loaded lda_sim_index.2\n",
      "INFO:gensim.similarities.docsim:PROGRESS: fresh_shard size=0\n",
      "INFO:gensim.similarities.docsim:PROGRESS: fresh_shard size=10000\n",
      "INFO:gensim.similarities.docsim:PROGRESS: fresh_shard size=20000\n",
      "INFO:gensim.similarities.docsim:PROGRESS: fresh_shard size=30000\n",
      "INFO:gensim.similarities.docsim:creating sparse index\n",
      "INFO:gensim.matutils:creating sparse matrix from corpus\n",
      "INFO:gensim.matutils:PROGRESS: at document #0/32768\n",
      "INFO:gensim.matutils:PROGRESS: at document #10000/32768\n",
      "INFO:gensim.matutils:PROGRESS: at document #20000/32768\n",
      "INFO:gensim.matutils:PROGRESS: at document #30000/32768\n",
      "INFO:gensim.similarities.docsim:created <32768x32 sparse matrix of type '<class 'numpy.float32'>'\n",
      "\twith 113631 stored elements in Compressed Sparse Row format>\n",
      "INFO:gensim.similarities.docsim:creating sparse shard #3\n",
      "INFO:gensim.similarities.docsim:saving index shard to lda_sim_index.3\n",
      "INFO:gensim.utils:saving SparseMatrixSimilarity object under lda_sim_index.3, separately None\n",
      "INFO:gensim.utils:saved lda_sim_index.3\n",
      "INFO:gensim.utils:loading SparseMatrixSimilarity object from lda_sim_index.3\n",
      "INFO:gensim.utils:loaded lda_sim_index.3\n",
      "INFO:gensim.similarities.docsim:PROGRESS: fresh_shard size=0\n",
      "INFO:gensim.similarities.docsim:PROGRESS: fresh_shard size=10000\n",
      "INFO:gensim.similarities.docsim:PROGRESS: fresh_shard size=20000\n",
      "INFO:gensim.similarities.docsim:PROGRESS: fresh_shard size=30000\n",
      "INFO:gensim.similarities.docsim:creating sparse index\n",
      "INFO:gensim.matutils:creating sparse matrix from corpus\n",
      "INFO:gensim.matutils:PROGRESS: at document #0/32768\n",
      "INFO:gensim.matutils:PROGRESS: at document #10000/32768\n",
      "INFO:gensim.matutils:PROGRESS: at document #20000/32768\n",
      "INFO:gensim.matutils:PROGRESS: at document #30000/32768\n",
      "INFO:gensim.similarities.docsim:created <32768x32 sparse matrix of type '<class 'numpy.float32'>'\n",
      "\twith 114268 stored elements in Compressed Sparse Row format>\n",
      "INFO:gensim.similarities.docsim:creating sparse shard #4\n",
      "INFO:gensim.similarities.docsim:saving index shard to lda_sim_index.4\n",
      "INFO:gensim.utils:saving SparseMatrixSimilarity object under lda_sim_index.4, separately None\n",
      "INFO:gensim.utils:saved lda_sim_index.4\n",
      "INFO:gensim.utils:loading SparseMatrixSimilarity object from lda_sim_index.4\n",
      "INFO:gensim.utils:loaded lda_sim_index.4\n",
      "INFO:gensim.similarities.docsim:PROGRESS: fresh_shard size=0\n",
      "INFO:gensim.similarities.docsim:creating sparse index\n",
      "INFO:gensim.matutils:creating sparse matrix from corpus\n",
      "INFO:gensim.matutils:PROGRESS: at document #0/757\n",
      "INFO:gensim.similarities.docsim:created <757x32 sparse matrix of type '<class 'numpy.float32'>'\n",
      "\twith 2664 stored elements in Compressed Sparse Row format>\n",
      "INFO:gensim.similarities.docsim:creating sparse shard #5\n",
      "INFO:gensim.similarities.docsim:saving index shard to lda_sim_index.5\n",
      "INFO:gensim.utils:saving SparseMatrixSimilarity object under lda_sim_index.5, separately None\n",
      "INFO:gensim.utils:saved lda_sim_index.5\n",
      "INFO:gensim.utils:loading SparseMatrixSimilarity object from lda_sim_index.5\n",
      "INFO:gensim.utils:loaded lda_sim_index.5\n",
      "INFO:gensim.utils:saving Similarity object under lda_sim_index.index, separately None\n",
      "INFO:gensim.utils:saved lda_sim_index.index\n"
     ]
    }
   ],
   "source": [
    "lda_similarity_index_loc = 'lda_sim_index'\n",
    "lda_similarity_index_file = 'lda_sim_index.index'\n",
    "\n",
    "if not os.path.isfile(lda_similarity_index_file):\n",
    "    # Construct similarity index\n",
    "    lda_similarity_index = Similarity(lda_similarity_index_loc, lda_corpora, DIM_LDA)\n",
    "    lda_similarity_index.save(lda_similarity_index_file)\n",
    "else:\n",
    "    lda_similarity_index = Similarity.load(lda_similarity_index_file)"
   ]
  },
  {
   "cell_type": "code",
   "execution_count": 149,
   "metadata": {
    "collapsed": true
   },
   "outputs": [],
   "source": [
    "def lda_score(ranked_queries, all_queries, similarity_index):\n",
    "    \"\"\"\n",
    "    Using Latent Dirichlet Allocation transform each query into its representation and\n",
    "    compute the cosine similarity between the query and its top 1000 docs.\n",
    "    \"\"\"\n",
    "    scores = defaultdict(list)\n",
    "    \n",
    "    # Set similarity index to return scores for all docs.\n",
    "    similarity_index.num_best = None\n",
    "    \n",
    "    # Iterate through queries\n",
    "    for query_id, top_docs in ranked_queries.items():\n",
    "        query_bow = dictionary.doc2bow(query_terms)\n",
    "        query_lda = lda_model[query_bow]\n",
    "        \n",
    "        # Get similarity score for this query for all docuemnts\n",
    "        sims = similarity_index[query_lda]\n",
    "        \n",
    "        # Only store the score of the documents that were iniatially ranked using tfidf.\n",
    "        for doc_id in top_docs:\n",
    "            document = index.document(doc_id)\n",
    "            \n",
    "            # Store score, account for document id - LDA id mismatch\n",
    "            scores[query_id].append((sims[doc_id-1], document[0]))\n",
    "            \n",
    "    for query_id in scores:\n",
    "            scores[query_id] = heapq.nlargest(1000, scores[query_id], itemgetter(0))\n",
    "    \n",
    "    return scores"
   ]
  },
  {
   "cell_type": "code",
   "execution_count": 150,
   "metadata": {
    "collapsed": true
   },
   "outputs": [],
   "source": [
    "lda_reranking_scores = lda_score(ranked_queries=tfidf_queries, all_queries=raw_queries, similarity_index=lda_similarity_index)"
   ]
  },
  {
   "cell_type": "code",
   "execution_count": 152,
   "metadata": {
    "collapsed": false
   },
   "outputs": [],
   "source": [
    "lda_scores_file = 'lda_scores.p'\n",
    "with open(lda_scores_file, 'wb') as fp:\n",
    "    pickle.dump(lda_reranking_scores, fp)"
   ]
  },
  {
   "cell_type": "code",
   "execution_count": 258,
   "metadata": {
    "collapsed": false
   },
   "outputs": [
    {
     "name": "stdout",
     "output_type": "stream",
     "text": [
      "Result of TF-IDF reranking using LSI is {'recall_1000': 0.6089, 'P_5': 0.0167, 'ndcg_cut_10': 0.0159, 'map_cut_1000': 0.0413}\n"
     ]
    }
   ],
   "source": [
    "## Use on test set\n",
    "print('Result of TF-IDF reranking using LSI is {0}'.format(trec_eval_test.evaluate(lda_reranking_scores)))"
   ]
  },
  {
   "cell_type": "code",
   "execution_count": 264,
   "metadata": {
    "collapsed": false
   },
   "outputs": [
    {
     "name": "stdout",
     "output_type": "stream",
     "text": [
      "Comparison between WORD2VEC Reranking of TF-IDF and TF-IDF\n",
      "Null hypothesis of equal averages accepted for Precision@5\n",
      "Null hypothesis of equal averages accepted for Recall@1000\n",
      "Null hypothesis of equal averages accepted for NDCG@10\n",
      "Null hypothesis of equal averages accepted for MAP@1000\n",
      "\n",
      "Comparison between DOC2VEC Reranking of TF-IDF and TF-IDF\n",
      "\n"
     ]
    },
    {
     "name": "stderr",
     "output_type": "stream",
     "text": [
      "/usr/local/lib/python3.5/dist-packages/scipy/stats/stats.py:3658: RuntimeWarning: invalid value encountered in absolute\n",
      "  prob = distributions.t.sf(np.abs(t), df) * 2  # use np.abs to get upper tail\n"
     ]
    },
    {
     "name": "stdout",
     "output_type": "stream",
     "text": [
      "Null hypothesis of equal averages rejected for Precision@5\n",
      "Null hypothesis of equal averages accepted for Recall@1000\n",
      "Null hypothesis of equal averages rejected for NDCG@10\n",
      "Null hypothesis of equal averages rejected for MAP@1000\n",
      "\n",
      "Comparison between LSI Reranking of TF-IDF and TF-IDF\n",
      "Null hypothesis of equal averages rejected for Precision@5\n",
      "Null hypothesis of equal averages accepted for Recall@1000\n",
      "Null hypothesis of equal averages rejected for NDCG@10\n",
      "Null hypothesis of equal averages rejected for MAP@1000\n",
      "\n",
      "Comparison between LDA Reranking of TF-IDF and TF-IDF\n",
      "Null hypothesis of equal averages rejected for Precision@5\n",
      "Null hypothesis of equal averages accepted for Recall@1000\n",
      "Null hypothesis of equal averages rejected for NDCG@10\n",
      "Null hypothesis of equal averages rejected for MAP@1000\n"
     ]
    }
   ],
   "source": [
    "#### Statistical comparisons with TF-IDF, as they are all rerankings\n",
    "## Compare TF-IDF and best Jalinek, Dirichlet, ABS.DISC, PLM\n",
    "print('Comparison between WORD2VEC Reranking of TF-IDF and TF-IDF')\n",
    "compute_related_ttest(tf, word2vec_rerankings)\n",
    "\n",
    "print('\\nComparison between DOC2VEC Reranking of TF-IDF and TF-IDF\\n')\n",
    "compute_related_ttest(tf, doc2vec_rerankings)\n",
    "\n",
    "print('\\nComparison between LSI Reranking of TF-IDF and TF-IDF')\n",
    "compute_related_ttest(tf, lsi_reranking_score)\n",
    "\n",
    "print('\\nComparison between LDA Reranking of TF-IDF and TF-IDF')\n",
    "compute_related_ttest(tf, lda_reranking_scores)"
   ]
  },
  {
   "cell_type": "markdown",
   "metadata": {},
   "source": [
    "##### Task 3: Learning to rank (LTR) [10 points] ###\n",
    "\n",
    "In this task you will get an introduction into learning to rank for information retrieval. You will experiment with a pointwise learning to rank method, logistic regression, implemented in [scikit-learn](http://scikit-learn.org/stable/modules/generated/sklearn.linear_model.LogisticRegression.html).\n",
    "\n",
    "**NOTE**: you can only perform this task if you have completely finished Task 1 and Task 2.\n",
    "\n",
    "In this experiment, you will use the retrieval methods you implemented in Task 1 and Task 2 as features for the learning to rank model. Train your LTR model using 10-fold cross validation on the test set. For every query, first create a document candidate set using the top-1000 documents using TF-IDF. Secondly, compute query-document values using the retrieval models above and use them as features. Note that the feature values of different retrieval methods are likely to be distributed differently.\n",
    "\n",
    "Your approach will definitely not be as good as the state-of-the-art since you are taking a pointwise approach, but we do not ask you to try pair- or listwise methods because they will be the main topic of the next assignment."
   ]
  },
  {
   "cell_type": "code",
   "execution_count": 294,
   "metadata": {
    "collapsed": false
   },
   "outputs": [],
   "source": [
    "from sklearn.linear_model import LogisticRegression\n",
    "\n"
   ]
  },
  {
   "cell_type": "markdown",
   "metadata": {
    "collapsed": true
   },
   "source": [
    "### Task 4: Write a report [20 points; instant FAIL if not provided] ###\n",
    "\n",
    "The report should be a PDF file created using the [sigconf ACM template](https://www.acm.org/publications/proceedings-template) and will determine a significant part of your grade.\n",
    "\n",
    "   * It should explain what you have implemented, motivate your experiments and detail what you expect to learn from them. **[10 points]**\n",
    "   * Lastly, provide a convincing analysis of your results and conclude the report accordingly. **[10 points]**\n",
    "      * Do all methods perform similarly on all queries? Why?\n",
    "      * Is there a single retrieval model that outperforms all other retrieval models (i.e., silver bullet)?\n",
    "      * ...\n",
    "\n",
    "**Hand in the report and your self-contained implementation source files.** Do not send us the VirtualBox, but only the files that matter, organized in a well-documented zip/tgz file with clear instructions on how to reproduce your results. That is, we want to be able to regenerate all your results with minimal effort. You can assume that the index and ground-truth information is present in the same file system structure as on the VirtualBox.\n"
   ]
  }
 ],
 "metadata": {
  "anaconda-cloud": {},
  "kernelspec": {
   "display_name": "Python 3",
   "language": "python",
   "name": "python3"
  },
  "language_info": {
   "codemirror_mode": {
    "name": "ipython",
    "version": 3
   },
   "file_extension": ".py",
   "mimetype": "text/x-python",
   "name": "python",
   "nbconvert_exporter": "python",
   "pygments_lexer": "ipython3",
   "version": "3.5.2"
  }
 },
 "nbformat": 4,
 "nbformat_minor": 0
}
