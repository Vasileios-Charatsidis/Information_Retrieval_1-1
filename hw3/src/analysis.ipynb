{
 "cells": [
  {
   "cell_type": "code",
   "execution_count": 1,
   "metadata": {
    "collapsed": false
   },
   "outputs": [
    {
     "name": "stderr",
     "output_type": "stream",
     "text": [
      "/Users/MironencoMircea/.virtualenvs/general-datascience/lib/python2.7/site-packages/matplotlib/font_manager.py:280: UserWarning: Matplotlib is building the font cache using fc-list. This may take a moment.\n",
      "  'Matplotlib is building the font cache using fc-list. '\n"
     ]
    }
   ],
   "source": [
    "%matplotlib inline\n",
    "import numpy as np\n",
    "import matplotlib.pyplot as plt"
   ]
  },
  {
   "cell_type": "code",
   "execution_count": 43,
   "metadata": {
    "collapsed": false
   },
   "outputs": [],
   "source": [
    "pairwise_NDCG = np.load('pairwise_average_NDCG.npy')\n",
    "pairwise_test_NDCGS = np.load('pairwise_NDCGS.npy')"
   ]
  },
  {
   "cell_type": "code",
   "execution_count": 8,
   "metadata": {
    "collapsed": false
   },
   "outputs": [],
   "source": [
    "pointwise_NDCG = np.load('pointwise_average_NDCG.npy')\n",
    "pointwise_test_NDCGS = np.load('pointwise_NDCGS.npy')"
   ]
  },
  {
   "cell_type": "code",
   "execution_count": 44,
   "metadata": {
    "collapsed": true
   },
   "outputs": [],
   "source": [
    "listwise_NDCG = np.load('listwise_average_NDCG.npy')\n",
    "listwise_test_NDCGS = np.load('listwise_NDCGS.npy')"
   ]
  },
  {
   "cell_type": "code",
   "execution_count": 51,
   "metadata": {
    "collapsed": false
   },
   "outputs": [],
   "source": [
    "all_test_results = np.zeros((5,3))\n",
    "x[:,0] = pointwise_test_NDCGS\n",
    "x[:,1] = pairwise_test_NDCGS\n",
    "x[:,2] = listwise_test_NDCGS"
   ]
  },
  {
   "cell_type": "code",
   "execution_count": 52,
   "metadata": {
    "collapsed": false
   },
   "outputs": [
    {
     "name": "stdout",
     "output_type": "stream",
     "text": [
      "[[ 0.55478279  0.64877734  0.67064442]\n",
      " [ 0.73202506  0.66571181  0.69554349]\n",
      " [ 0.63572649  0.70821815  0.74782167]\n",
      " [ 0.66726336  0.62055013  0.64617301]\n",
      " [ 0.4996028   0.56144052  0.62360063]]\n"
     ]
    }
   ],
   "source": [
    "print(x)"
   ]
  },
  {
   "cell_type": "code",
   "execution_count": 53,
   "metadata": {
    "collapsed": false
   },
   "outputs": [
    {
     "name": "stdout",
     "output_type": "stream",
     "text": [
      "[array(0.6178801002053091), array(0.640939589008705), array(0.67675664224015)]\n"
     ]
    }
   ],
   "source": [
    "fin = [pointwise_NDCG, pairwise_NDCG, listwise_NDCG]\n",
    "print(fin)"
   ]
  },
  {
   "cell_type": "code",
   "execution_count": 50,
   "metadata": {
    "collapsed": false
   },
   "outputs": [
    {
     "data": {
      "text/plain": [
       "([<matplotlib.axis.XTick at 0x106bcab90>,\n",
       "  <matplotlib.axis.XTick at 0x106c9bed0>,\n",
       "  <matplotlib.axis.XTick at 0x106cdca10>],\n",
       " <a list of 3 Text xticklabel objects>)"
      ]
     },
     "execution_count": 50,
     "metadata": {},
     "output_type": "execute_result"
    },
    {
     "data": {
      "image/png": "[encoded data removed]",
      "text/plain": [
       "<matplotlib.figure.Figure at 0x106ab9d10>"
      ]
     },
     "metadata": {},
     "output_type": "display_data"
    }
   ],
   "source": [
    "D = {'Pointwise':pointwise_NDCG,'Pairwise':pairwise_NDCG,'Listwise':listwise_NDCG}\n",
    "\n",
    "plt.figure(figsize=(10,6))\n",
    "plt.bar(range(len(D)), D.values(), align='center')\n",
    "plt.xticks(range(len(D)), D.keys())\n"
   ]
  },
  {
   "cell_type": "code",
   "execution_count": null,
   "metadata": {
    "collapsed": true
   },
   "outputs": [],
   "source": []
  }
 ],
 "metadata": {
  "kernelspec": {
   "display_name": "Python 2",
   "language": "python",
   "name": "python2"
  },
  "language_info": {
   "codemirror_mode": {
    "name": "ipython",
    "version": 2
   },
   "file_extension": ".py",
   "mimetype": "text/x-python",
   "name": "python",
   "nbconvert_exporter": "python",
   "pygments_lexer": "ipython2",
   "version": "2.7.11"
  }
 },
 "nbformat": 4,
 "nbformat_minor": 2
}
